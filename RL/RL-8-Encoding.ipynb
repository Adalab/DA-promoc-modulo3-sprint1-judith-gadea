{
 "cells": [
  {
   "cell_type": "markdown",
   "metadata": {},
   "source": [
    "### Pair Programming Encoding\n",
    "\n",
    "En el pair programming de hoy usaremos el set de datos que guardastéis en el pair programming de normalización y estandarización.\n",
    "\n",
    "Vuestro set de datos debería tener al menos una variable categórica, el objetivo del pair programming de hoy:\n",
    "Hacer una códificación de la/las variables categóricas que tengáis en vuestro set de datos.\n",
    "Recordad que lo primero que deberéis hacer es decidir su vuestras variables tienen o no orden, para que en función de esto uséis una aproximación u otra.\n",
    "\n",
    "Guardad el dataframe, donde deberíais tener las variables estadandarizas, normalizadas y codificadas en un csv para usarlo en el próximo pairprogramming"
   ]
  },
  {
   "cell_type": "code",
   "execution_count": 58,
   "metadata": {},
   "outputs": [],
   "source": [
    "# Tratamiento de datos\n",
    "# -----------------------------------------------------------------------\n",
    "import pandas as pd\n",
    "\n",
    "# Para la codificación de las variables numéricas\n",
    "# -----------------------------------------------------------------------\n",
    "from sklearn.preprocessing import LabelEncoder # para realizar el Label Encoding \n",
    "from sklearn.preprocessing import OneHotEncoder  # para realizar el One-Hot Encoding\n",
    "\n",
    "# Para evitar que salgan los warnings en jupyter\n",
    "# -----------------------------------------------------------------------\n",
    "import warnings\n",
    "warnings.filterwarnings('ignore')"
   ]
  },
  {
   "cell_type": "code",
   "execution_count": 59,
   "metadata": {},
   "outputs": [
    {
     "data": {
      "text/html": [
       "<div>\n",
       "<style scoped>\n",
       "    .dataframe tbody tr th:only-of-type {\n",
       "        vertical-align: middle;\n",
       "    }\n",
       "\n",
       "    .dataframe tbody tr th {\n",
       "        vertical-align: top;\n",
       "    }\n",
       "\n",
       "    .dataframe thead th {\n",
       "        text-align: right;\n",
       "    }\n",
       "</style>\n",
       "<table border=\"1\" class=\"dataframe\">\n",
       "  <thead>\n",
       "    <tr style=\"text-align: right;\">\n",
       "      <th></th>\n",
       "      <th>carat</th>\n",
       "      <th>cut</th>\n",
       "      <th>color</th>\n",
       "      <th>clarity</th>\n",
       "      <th>depth</th>\n",
       "      <th>table</th>\n",
       "      <th>price</th>\n",
       "      <th>lenght_mm</th>\n",
       "      <th>width_mm</th>\n",
       "      <th>depth_mm</th>\n",
       "      <th>est_carat</th>\n",
       "      <th>est_depth</th>\n",
       "      <th>est_table</th>\n",
       "      <th>est_price</th>\n",
       "      <th>est_lenght_mm</th>\n",
       "      <th>est_width_mm</th>\n",
       "      <th>est_depth_mm</th>\n",
       "    </tr>\n",
       "  </thead>\n",
       "  <tbody>\n",
       "    <tr>\n",
       "      <th>1</th>\n",
       "      <td>0.23</td>\n",
       "      <td>Ideal</td>\n",
       "      <td>E</td>\n",
       "      <td>SI2</td>\n",
       "      <td>61.5</td>\n",
       "      <td>55.0</td>\n",
       "      <td>326</td>\n",
       "      <td>3.95</td>\n",
       "      <td>3.98</td>\n",
       "      <td>2.43</td>\n",
       "      <td>-1.268160</td>\n",
       "      <td>-1.597233</td>\n",
       "      <td>1.661056</td>\n",
       "      <td>-0.986397</td>\n",
       "      <td>-1.646799</td>\n",
       "      <td>-1.705394</td>\n",
       "      <td>-1.780396</td>\n",
       "    </tr>\n",
       "    <tr>\n",
       "      <th>2</th>\n",
       "      <td>0.21</td>\n",
       "      <td>Premium</td>\n",
       "      <td>E</td>\n",
       "      <td>SI1</td>\n",
       "      <td>59.8</td>\n",
       "      <td>61.0</td>\n",
       "      <td>326</td>\n",
       "      <td>3.89</td>\n",
       "      <td>3.84</td>\n",
       "      <td>2.31</td>\n",
       "      <td>-1.224362</td>\n",
       "      <td>0.042616</td>\n",
       "      <td>3.519383</td>\n",
       "      <td>-0.986075</td>\n",
       "      <td>-1.503737</td>\n",
       "      <td>-1.498268</td>\n",
       "      <td>-1.780396</td>\n",
       "    </tr>\n",
       "    <tr>\n",
       "      <th>3</th>\n",
       "      <td>0.23</td>\n",
       "      <td>Good</td>\n",
       "      <td>E</td>\n",
       "      <td>VS1</td>\n",
       "      <td>61.8</td>\n",
       "      <td>65.0</td>\n",
       "      <td>327</td>\n",
       "      <td>4.05</td>\n",
       "      <td>4.07</td>\n",
       "      <td>2.31</td>\n",
       "      <td>-1.092965</td>\n",
       "      <td>0.534571</td>\n",
       "      <td>0.267310</td>\n",
       "      <td>-0.983820</td>\n",
       "      <td>-1.369617</td>\n",
       "      <td>-1.354180</td>\n",
       "      <td>-1.316852</td>\n",
       "    </tr>\n",
       "  </tbody>\n",
       "</table>\n",
       "</div>"
      ],
      "text/plain": [
       "   carat      cut color clarity  depth  table  price  lenght_mm  width_mm  \\\n",
       "1   0.23    Ideal     E     SI2   61.5   55.0    326       3.95      3.98   \n",
       "2   0.21  Premium     E     SI1   59.8   61.0    326       3.89      3.84   \n",
       "3   0.23     Good     E     VS1   61.8   65.0    327       4.05      4.07   \n",
       "\n",
       "   depth_mm  est_carat  est_depth  est_table  est_price  est_lenght_mm  \\\n",
       "1      2.43  -1.268160  -1.597233   1.661056  -0.986397      -1.646799   \n",
       "2      2.31  -1.224362   0.042616   3.519383  -0.986075      -1.503737   \n",
       "3      2.31  -1.092965   0.534571   0.267310  -0.983820      -1.369617   \n",
       "\n",
       "   est_width_mm  est_depth_mm  \n",
       "1     -1.705394     -1.780396  \n",
       "2     -1.498268     -1.780396  \n",
       "3     -1.354180     -1.316852  "
      ]
     },
     "execution_count": 59,
     "metadata": {},
     "output_type": "execute_result"
    }
   ],
   "source": [
    "df=pd.read_csv('../datos/diamonds_est.csv',index_col=0)\n",
    "df.head(3)"
   ]
  },
  {
   "cell_type": "code",
   "execution_count": 60,
   "metadata": {},
   "outputs": [
    {
     "data": {
      "text/plain": [
       "carat              0\n",
       "cut                0\n",
       "color              0\n",
       "clarity            0\n",
       "depth              0\n",
       "table              0\n",
       "price              0\n",
       "lenght_mm          0\n",
       "width_mm           0\n",
       "depth_mm           0\n",
       "est_carat        147\n",
       "est_depth        147\n",
       "est_table        147\n",
       "est_price        147\n",
       "est_lenght_mm    147\n",
       "est_width_mm     147\n",
       "est_depth_mm     147\n",
       "dtype: int64"
      ]
     },
     "execution_count": 60,
     "metadata": {},
     "output_type": "execute_result"
    }
   ],
   "source": [
    "df.isnull().sum()"
   ]
  },
  {
   "cell_type": "code",
   "execution_count": 61,
   "metadata": {},
   "outputs": [
    {
     "data": {
      "text/html": [
       "<div>\n",
       "<style scoped>\n",
       "    .dataframe tbody tr th:only-of-type {\n",
       "        vertical-align: middle;\n",
       "    }\n",
       "\n",
       "    .dataframe tbody tr th {\n",
       "        vertical-align: top;\n",
       "    }\n",
       "\n",
       "    .dataframe thead th {\n",
       "        text-align: right;\n",
       "    }\n",
       "</style>\n",
       "<table border=\"1\" class=\"dataframe\">\n",
       "  <thead>\n",
       "    <tr style=\"text-align: right;\">\n",
       "      <th></th>\n",
       "      <th>cut</th>\n",
       "      <th>color</th>\n",
       "      <th>clarity</th>\n",
       "    </tr>\n",
       "  </thead>\n",
       "  <tbody>\n",
       "    <tr>\n",
       "      <th>1</th>\n",
       "      <td>Ideal</td>\n",
       "      <td>E</td>\n",
       "      <td>SI2</td>\n",
       "    </tr>\n",
       "    <tr>\n",
       "      <th>2</th>\n",
       "      <td>Premium</td>\n",
       "      <td>E</td>\n",
       "      <td>SI1</td>\n",
       "    </tr>\n",
       "    <tr>\n",
       "      <th>3</th>\n",
       "      <td>Good</td>\n",
       "      <td>E</td>\n",
       "      <td>VS1</td>\n",
       "    </tr>\n",
       "    <tr>\n",
       "      <th>4</th>\n",
       "      <td>Premium</td>\n",
       "      <td>I</td>\n",
       "      <td>VS2</td>\n",
       "    </tr>\n",
       "    <tr>\n",
       "      <th>5</th>\n",
       "      <td>Good</td>\n",
       "      <td>J</td>\n",
       "      <td>SI2</td>\n",
       "    </tr>\n",
       "    <tr>\n",
       "      <th>...</th>\n",
       "      <td>...</td>\n",
       "      <td>...</td>\n",
       "      <td>...</td>\n",
       "    </tr>\n",
       "    <tr>\n",
       "      <th>53936</th>\n",
       "      <td>Ideal</td>\n",
       "      <td>D</td>\n",
       "      <td>SI1</td>\n",
       "    </tr>\n",
       "    <tr>\n",
       "      <th>53937</th>\n",
       "      <td>Good</td>\n",
       "      <td>D</td>\n",
       "      <td>SI1</td>\n",
       "    </tr>\n",
       "    <tr>\n",
       "      <th>53938</th>\n",
       "      <td>Very Good</td>\n",
       "      <td>D</td>\n",
       "      <td>SI1</td>\n",
       "    </tr>\n",
       "    <tr>\n",
       "      <th>53939</th>\n",
       "      <td>Premium</td>\n",
       "      <td>H</td>\n",
       "      <td>SI2</td>\n",
       "    </tr>\n",
       "    <tr>\n",
       "      <th>53940</th>\n",
       "      <td>Ideal</td>\n",
       "      <td>D</td>\n",
       "      <td>SI2</td>\n",
       "    </tr>\n",
       "  </tbody>\n",
       "</table>\n",
       "<p>53794 rows × 3 columns</p>\n",
       "</div>"
      ],
      "text/plain": [
       "             cut color clarity\n",
       "1          Ideal     E     SI2\n",
       "2        Premium     E     SI1\n",
       "3           Good     E     VS1\n",
       "4        Premium     I     VS2\n",
       "5           Good     J     SI2\n",
       "...          ...   ...     ...\n",
       "53936      Ideal     D     SI1\n",
       "53937       Good     D     SI1\n",
       "53938  Very Good     D     SI1\n",
       "53939    Premium     H     SI2\n",
       "53940      Ideal     D     SI2\n",
       "\n",
       "[53794 rows x 3 columns]"
      ]
     },
     "execution_count": 61,
     "metadata": {},
     "output_type": "execute_result"
    }
   ],
   "source": [
    "categoricas =df.select_dtypes(include='object')\n",
    "categoricas"
   ]
  },
  {
   "cell_type": "code",
   "execution_count": 62,
   "metadata": {},
   "outputs": [
    {
     "name": "stdout",
     "output_type": "stream",
     "text": [
      "Para la columna CUT, los valores únicos son:\n",
      "['Ideal' 'Premium' 'Good' 'Very Good' 'Fair']\n",
      "----------------\n",
      "Para la columna COLOR, los valores únicos son:\n",
      "['E' 'I' 'J' 'H' 'F' 'G' 'D']\n",
      "----------------\n",
      "Para la columna CLARITY, los valores únicos son:\n",
      "['SI2' 'SI1' 'VS1' 'VS2' 'VVS2' 'VVS1' 'I1' 'IF']\n",
      "----------------\n"
     ]
    }
   ],
   "source": [
    "for col in categoricas:\n",
    "    print(f'Para la columna {col.upper()}, los valores únicos son:')\n",
    "    print(df[col].unique())\n",
    "    print('----------------')"
   ]
  },
  {
   "cell_type": "markdown",
   "metadata": {},
   "source": [
    "Los valores de las columnas categoricas tienen el siguiente orden:\n",
    "\n",
    "- **cut** quality of the cut (Fair, Good, Very Good, Premium, Ideal).\n",
    "\n",
    "- **color** diamond colour, from J (worst) to D (best).\n",
    "\n",
    "- **clarity** a measurement of how clear the diamond is (I1 (worst), SI2, SI1, VS2, VS1, VVS2, VVS1, IF (best))."
   ]
  },
  {
   "cell_type": "code",
   "execution_count": 63,
   "metadata": {},
   "outputs": [
    {
     "name": "stdout",
     "output_type": "stream",
     "text": [
      "Fair\n",
      "0\n",
      "Good\n",
      "1\n",
      "Very Good\n",
      "2\n",
      "Premium\n",
      "3\n",
      "Ideal\n",
      "4\n"
     ]
    }
   ],
   "source": [
    "lista_valores=[\"Fair\", \"Good\", \"Very Good\", \"Premium\", \"Ideal\"]\n",
    "dict_orden={}\n",
    "for k, v in enumerate(lista_valores): #Iteramos por las posiciones de la lista y sus valores.\n",
    "    dict_orden[v]=k\n",
    "    print(v)\n",
    "    print(k)\n",
    "df['cut_n']=df[\"cut\"].map(dict_orden)"
   ]
  },
  {
   "cell_type": "code",
   "execution_count": 64,
   "metadata": {},
   "outputs": [
    {
     "data": {
      "text/plain": [
       "{'Fair': 0, 'Good': 1, 'Very Good': 2, 'Premium': 3, 'Ideal': 4}"
      ]
     },
     "execution_count": 64,
     "metadata": {},
     "output_type": "execute_result"
    }
   ],
   "source": [
    "dict_orden"
   ]
  },
  {
   "cell_type": "code",
   "execution_count": 65,
   "metadata": {},
   "outputs": [
    {
     "data": {
      "text/plain": [
       "array([4, 3, 1, 2, 0])"
      ]
     },
     "execution_count": 65,
     "metadata": {},
     "output_type": "execute_result"
    }
   ],
   "source": [
    "df[\"cut_n\"].unique()"
   ]
  },
  {
   "cell_type": "code",
   "execution_count": 66,
   "metadata": {},
   "outputs": [
    {
     "data": {
      "text/html": [
       "<div>\n",
       "<style scoped>\n",
       "    .dataframe tbody tr th:only-of-type {\n",
       "        vertical-align: middle;\n",
       "    }\n",
       "\n",
       "    .dataframe tbody tr th {\n",
       "        vertical-align: top;\n",
       "    }\n",
       "\n",
       "    .dataframe thead th {\n",
       "        text-align: right;\n",
       "    }\n",
       "</style>\n",
       "<table border=\"1\" class=\"dataframe\">\n",
       "  <thead>\n",
       "    <tr style=\"text-align: right;\">\n",
       "      <th></th>\n",
       "      <th>carat</th>\n",
       "      <th>cut</th>\n",
       "      <th>color</th>\n",
       "      <th>clarity</th>\n",
       "      <th>depth</th>\n",
       "      <th>table</th>\n",
       "      <th>price</th>\n",
       "      <th>lenght_mm</th>\n",
       "      <th>width_mm</th>\n",
       "      <th>depth_mm</th>\n",
       "      <th>est_carat</th>\n",
       "      <th>est_depth</th>\n",
       "      <th>est_table</th>\n",
       "      <th>est_price</th>\n",
       "      <th>est_lenght_mm</th>\n",
       "      <th>est_width_mm</th>\n",
       "      <th>est_depth_mm</th>\n",
       "      <th>cut_n</th>\n",
       "    </tr>\n",
       "  </thead>\n",
       "  <tbody>\n",
       "    <tr>\n",
       "      <th>1</th>\n",
       "      <td>0.23</td>\n",
       "      <td>Ideal</td>\n",
       "      <td>E</td>\n",
       "      <td>SI2</td>\n",
       "      <td>61.5</td>\n",
       "      <td>55.0</td>\n",
       "      <td>326</td>\n",
       "      <td>3.95</td>\n",
       "      <td>3.98</td>\n",
       "      <td>2.43</td>\n",
       "      <td>-1.268160</td>\n",
       "      <td>-1.597233</td>\n",
       "      <td>1.661056</td>\n",
       "      <td>-0.986397</td>\n",
       "      <td>-1.646799</td>\n",
       "      <td>-1.705394</td>\n",
       "      <td>-1.780396</td>\n",
       "      <td>4</td>\n",
       "    </tr>\n",
       "    <tr>\n",
       "      <th>2</th>\n",
       "      <td>0.21</td>\n",
       "      <td>Premium</td>\n",
       "      <td>E</td>\n",
       "      <td>SI1</td>\n",
       "      <td>59.8</td>\n",
       "      <td>61.0</td>\n",
       "      <td>326</td>\n",
       "      <td>3.89</td>\n",
       "      <td>3.84</td>\n",
       "      <td>2.31</td>\n",
       "      <td>-1.224362</td>\n",
       "      <td>0.042616</td>\n",
       "      <td>3.519383</td>\n",
       "      <td>-0.986075</td>\n",
       "      <td>-1.503737</td>\n",
       "      <td>-1.498268</td>\n",
       "      <td>-1.780396</td>\n",
       "      <td>3</td>\n",
       "    </tr>\n",
       "    <tr>\n",
       "      <th>3</th>\n",
       "      <td>0.23</td>\n",
       "      <td>Good</td>\n",
       "      <td>E</td>\n",
       "      <td>VS1</td>\n",
       "      <td>61.8</td>\n",
       "      <td>65.0</td>\n",
       "      <td>327</td>\n",
       "      <td>4.05</td>\n",
       "      <td>4.07</td>\n",
       "      <td>2.31</td>\n",
       "      <td>-1.092965</td>\n",
       "      <td>0.534571</td>\n",
       "      <td>0.267310</td>\n",
       "      <td>-0.983820</td>\n",
       "      <td>-1.369617</td>\n",
       "      <td>-1.354180</td>\n",
       "      <td>-1.316852</td>\n",
       "      <td>1</td>\n",
       "    </tr>\n",
       "  </tbody>\n",
       "</table>\n",
       "</div>"
      ],
      "text/plain": [
       "   carat      cut color clarity  depth  table  price  lenght_mm  width_mm  \\\n",
       "1   0.23    Ideal     E     SI2   61.5   55.0    326       3.95      3.98   \n",
       "2   0.21  Premium     E     SI1   59.8   61.0    326       3.89      3.84   \n",
       "3   0.23     Good     E     VS1   61.8   65.0    327       4.05      4.07   \n",
       "\n",
       "   depth_mm  est_carat  est_depth  est_table  est_price  est_lenght_mm  \\\n",
       "1      2.43  -1.268160  -1.597233   1.661056  -0.986397      -1.646799   \n",
       "2      2.31  -1.224362   0.042616   3.519383  -0.986075      -1.503737   \n",
       "3      2.31  -1.092965   0.534571   0.267310  -0.983820      -1.369617   \n",
       "\n",
       "   est_width_mm  est_depth_mm  cut_n  \n",
       "1     -1.705394     -1.780396      4  \n",
       "2     -1.498268     -1.780396      3  \n",
       "3     -1.354180     -1.316852      1  "
      ]
     },
     "execution_count": 66,
     "metadata": {},
     "output_type": "execute_result"
    }
   ],
   "source": [
    "df.head(3)"
   ]
  },
  {
   "cell_type": "code",
   "execution_count": 69,
   "metadata": {},
   "outputs": [],
   "source": [
    "#Realizamos una funcion para automatizar.\n",
    "\n",
    "def cat_columns(df,col,orden_values): \n",
    "  dict_orden={} #Creamos un diccionario para mapear. \n",
    "  for k, v in enumerate(orden_values): #Iteramos por las posiciones de la lista y sus valores.\n",
    "  #Asignamos como keys los valores de la lista y como values las posiciones de las categorias en la lista.\n",
    "    dict_orden[v]=k+1 \n",
    "    #dict_orden[v]=k \n",
    "    new_col=col+'encoded'\n",
    "  df[new_col]=df[col].map(dict_orden)\n",
    "  return df\n"
   ]
  }
 ],
 "metadata": {
  "kernelspec": {
   "display_name": "Python 3.9.7 ('base')",
   "language": "python",
   "name": "python3"
  },
  "language_info": {
   "codemirror_mode": {
    "name": "ipython",
    "version": 3
   },
   "file_extension": ".py",
   "mimetype": "text/x-python",
   "name": "python",
   "nbconvert_exporter": "python",
   "pygments_lexer": "ipython3",
   "version": "3.9.7"
  },
  "orig_nbformat": 4,
  "vscode": {
   "interpreter": {
    "hash": "252c28c73334dc448966c55846d6aa799713735e1772b1237f15441ac08135d3"
   }
  }
 },
 "nbformat": 4,
 "nbformat_minor": 2
}
