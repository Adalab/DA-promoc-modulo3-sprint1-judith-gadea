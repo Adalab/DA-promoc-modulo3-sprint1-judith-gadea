{
 "cells": [
  {
   "cell_type": "markdown",
   "metadata": {},
   "source": [
    "### Pair Programming Random Forest\n",
    "\n",
    "Hasta ahora hemos ajustado el modelo usando una Regresión Logística, pero como hemos aprendido, podemos usar el Random Forest en este tipo de problemas. Los objetivos de este pair programming :\n",
    "\n",
    "1. Ajustad un modelo de Random Forest a nuestros datos.\n",
    "\n",
    "2. Calculad las métricas a nuestro nuevo modelo.\n",
    "\n",
    "3. Comparad las métricas con los modelos hechos hasta ahora. ¿Cuál es mejor?"
   ]
  },
  {
   "cell_type": "code",
   "execution_count": 1,
   "metadata": {},
   "outputs": [],
   "source": [
    "# Tratamiento de datos\n",
    "# ------------------------------------------------------------------------------\n",
    "import numpy as np\n",
    "import pandas as pd\n",
    "\n",
    "# Gráficos\n",
    "# ------------------------------------------------------------------------------\n",
    "import matplotlib.pyplot as plt\n",
    "import seaborn as sns\n",
    "\n",
    "# Modelado y evaluación\n",
    "# ------------------------------------------------------------------------------\n",
    "from sklearn.model_selection import train_test_split\n",
    "from sklearn.ensemble import RandomForestRegressor\n",
    "from sklearn import tree\n",
    "from sklearn.metrics import r2_score, mean_squared_error, mean_absolute_error\n",
    "from sklearn.model_selection import GridSearchCV\n",
    "\n",
    "# Barra de progreso de un proceso\n",
    "# ------------------------------------------------------------------------------\n",
    "from tqdm import tqdm\n",
    "\n",
    "# Configuración warnings\n",
    "# ------------------------------------------------------------------------------\n",
    "import warnings\n",
    "warnings.filterwarnings('once')"
   ]
  },
  {
   "cell_type": "code",
   "execution_count": 3,
   "metadata": {},
   "outputs": [
    {
     "data": {
      "text/html": [
       "<div>\n",
       "<style scoped>\n",
       "    .dataframe tbody tr th:only-of-type {\n",
       "        vertical-align: middle;\n",
       "    }\n",
       "\n",
       "    .dataframe tbody tr th {\n",
       "        vertical-align: top;\n",
       "    }\n",
       "\n",
       "    .dataframe thead th {\n",
       "        text-align: right;\n",
       "    }\n",
       "</style>\n",
       "<table border=\"1\" class=\"dataframe\">\n",
       "  <thead>\n",
       "    <tr style=\"text-align: right;\">\n",
       "      <th></th>\n",
       "      <th>est_carat</th>\n",
       "      <th>est_depth</th>\n",
       "      <th>est_table</th>\n",
       "      <th>est_price</th>\n",
       "      <th>est_lenght_mm</th>\n",
       "      <th>est_width_mm</th>\n",
       "      <th>est_depth_mm</th>\n",
       "      <th>cut_encoded</th>\n",
       "      <th>clarity_encoded</th>\n",
       "      <th>color_encoded</th>\n",
       "    </tr>\n",
       "  </thead>\n",
       "  <tbody>\n",
       "    <tr>\n",
       "      <th>1</th>\n",
       "      <td>-1.268160</td>\n",
       "      <td>-1.597233</td>\n",
       "      <td>1.661056</td>\n",
       "      <td>-0.986397</td>\n",
       "      <td>-1.646799</td>\n",
       "      <td>-1.705394</td>\n",
       "      <td>-1.780396</td>\n",
       "      <td>5</td>\n",
       "      <td>3</td>\n",
       "      <td>2</td>\n",
       "    </tr>\n",
       "    <tr>\n",
       "      <th>2</th>\n",
       "      <td>-1.224362</td>\n",
       "      <td>0.042616</td>\n",
       "      <td>3.519383</td>\n",
       "      <td>-0.986075</td>\n",
       "      <td>-1.503737</td>\n",
       "      <td>-1.498268</td>\n",
       "      <td>-1.780396</td>\n",
       "      <td>4</td>\n",
       "      <td>1</td>\n",
       "      <td>2</td>\n",
       "    </tr>\n",
       "  </tbody>\n",
       "</table>\n",
       "</div>"
      ],
      "text/plain": [
       "   est_carat  est_depth  est_table  est_price  est_lenght_mm  est_width_mm  \\\n",
       "1  -1.268160  -1.597233   1.661056  -0.986397      -1.646799     -1.705394   \n",
       "2  -1.224362   0.042616   3.519383  -0.986075      -1.503737     -1.498268   \n",
       "\n",
       "   est_depth_mm  cut_encoded  clarity_encoded  color_encoded  \n",
       "1     -1.780396            5                3              2  \n",
       "2     -1.780396            4                1              2  "
      ]
     },
     "execution_count": 3,
     "metadata": {},
     "output_type": "execute_result"
    }
   ],
   "source": [
    "df= pd.read_csv('../datos/diamonds_def.csv', index_col=0)\n",
    "df.head(2)"
   ]
  },
  {
   "cell_type": "code",
   "execution_count": 4,
   "metadata": {},
   "outputs": [],
   "source": [
    "#Separamos el df de la VR.\n",
    "X = df.drop(\"est_carat\", axis = 1)\n",
    "y = df[\"est_carat\"]"
   ]
  },
  {
   "cell_type": "code",
   "execution_count": 5,
   "metadata": {},
   "outputs": [],
   "source": [
    "x_train, x_test, y_train, y_test = train_test_split(X, y, test_size = 0.2, random_state = 42)"
   ]
  },
  {
   "cell_type": "code",
   "execution_count": 6,
   "metadata": {},
   "outputs": [],
   "source": [
    "param = {\"max_depth\": [2,4, 17], # teniendo en cuenta que teníamos overfitting tendremos que reducir la profundidad del modelo, la nuestra anterior era de 17. Bajaremos mucho este valor ya que teníamos un overfitting muy claro\n",
    "        \"max_features\": [1,2,3,],# calculamos en celdas anteriores, probaremos a hacer el modelo como una variable, 2, 3 y 4. Ponemos como límite el 4 ya que es el resultado de la raiz cuadrada. \n",
    "        # estos dos hiperparámetros son más difíciles de definir, pero usualmente se suelen elegir los siguientes valores\n",
    "        \"min_samples_split\": [500, 1000, 1500],\n",
    "        \"min_samples_leaf\": [300,800,1300]} "
   ]
  },
  {
   "cell_type": "code",
   "execution_count": 7,
   "metadata": {},
   "outputs": [],
   "source": [
    "gs_rf = GridSearchCV(\n",
    "            estimator=RandomForestRegressor(), # tipo de modelo que queremos hacer\n",
    "            param_grid= param, #parametros que queremos que testee.\n",
    "            cv=10, # crossvalidation que utilizamos en RLineal.\n",
    "            verbose=-1, # no printear mensaje \n",
    "            return_train_score = True, # devuelve el valor de las metricas de set de datos de entrenamiento\n",
    "            scoring=\"neg_mean_squared_error\") # la métrica que queremos que nos devuelva"
   ]
  },
  {
   "cell_type": "code",
   "execution_count": 8,
   "metadata": {},
   "outputs": [
    {
     "data": {
      "text/plain": [
       "GridSearchCV(cv=10, estimator=RandomForestRegressor(),\n",
       "             param_grid={'max_depth': [2, 4, 17], 'max_features': [1, 2, 3],\n",
       "                         'min_samples_leaf': [300, 800, 1300],\n",
       "                         'min_samples_split': [500, 1000, 1500]},\n",
       "             return_train_score=True, scoring='neg_mean_squared_error',\n",
       "             verbose=-1)"
      ]
     },
     "execution_count": 8,
     "metadata": {},
     "output_type": "execute_result"
    }
   ],
   "source": [
    "# ajustamos el modelo que acabamos de definir en el GridSearch\n",
    "gs_rf.fit(x_train, y_train)"
   ]
  },
  {
   "cell_type": "code",
   "execution_count": 9,
   "metadata": {},
   "outputs": [
    {
     "data": {
      "text/plain": [
       "RandomForestRegressor(max_depth=17, max_features=3, min_samples_leaf=300,\n",
       "                      min_samples_split=500)"
      ]
     },
     "execution_count": 9,
     "metadata": {},
     "output_type": "execute_result"
    }
   ],
   "source": [
    "bosque = gs_rf.best_estimator_\n",
    "bosque"
   ]
  },
  {
   "cell_type": "code",
   "execution_count": 47,
   "metadata": {},
   "outputs": [],
   "source": [
    "def metricas(y_test, y_train, y_test_pred, y_train_pred, tipo_modelo):\n",
    "    \n",
    "    \n",
    "    resultados = {'MAE': [mean_absolute_error(y_test, y_test_pred), mean_absolute_error(y_train, y_train_pred)],\n",
    "                'MSE': [mean_squared_error(y_test, y_test_pred), mean_squared_error(y_train, y_train_pred)],\n",
    "                'RMSE': [np.sqrt(mean_squared_error(y_test, y_test_pred)), np.sqrt(mean_squared_error(y_train, y_train_pred))],\n",
    "                'R2':  [r2_score(y_test, y_test_pred), r2_score(y_train, y_train_pred)],\n",
    "                 \"set\": [\"test\", \"train\"]}\n",
    "    df = pd.DataFrame(resultados)\n",
    "    df[\"modelo\"] = tipo_modelo\n",
    "    return df"
   ]
  },
  {
   "cell_type": "code",
   "execution_count": 46,
   "metadata": {},
   "outputs": [],
   "source": [
    "y_pred_test_rf = bosque.predict(x_test)\n",
    "y_pred_train_rf = bosque.predict(x_train)"
   ]
  },
  {
   "cell_type": "code",
   "execution_count": 57,
   "metadata": {},
   "outputs": [
    {
     "data": {
      "text/html": [
       "<div>\n",
       "<style scoped>\n",
       "    .dataframe tbody tr th:only-of-type {\n",
       "        vertical-align: middle;\n",
       "    }\n",
       "\n",
       "    .dataframe tbody tr th {\n",
       "        vertical-align: top;\n",
       "    }\n",
       "\n",
       "    .dataframe thead th {\n",
       "        text-align: right;\n",
       "    }\n",
       "</style>\n",
       "<table border=\"1\" class=\"dataframe\">\n",
       "  <thead>\n",
       "    <tr style=\"text-align: right;\">\n",
       "      <th></th>\n",
       "      <th>MAE</th>\n",
       "      <th>MSE</th>\n",
       "      <th>RMSE</th>\n",
       "      <th>R2</th>\n",
       "      <th>set</th>\n",
       "      <th>modelo</th>\n",
       "    </tr>\n",
       "  </thead>\n",
       "  <tbody>\n",
       "    <tr>\n",
       "      <th>0</th>\n",
       "      <td>0.048693</td>\n",
       "      <td>0.035429</td>\n",
       "      <td>0.188227</td>\n",
       "      <td>0.964410</td>\n",
       "      <td>test</td>\n",
       "      <td>Random Forest</td>\n",
       "    </tr>\n",
       "    <tr>\n",
       "      <th>1</th>\n",
       "      <td>0.047888</td>\n",
       "      <td>0.033603</td>\n",
       "      <td>0.183310</td>\n",
       "      <td>0.966424</td>\n",
       "      <td>train</td>\n",
       "      <td>Random Forest</td>\n",
       "    </tr>\n",
       "  </tbody>\n",
       "</table>\n",
       "</div>"
      ],
      "text/plain": [
       "        MAE       MSE      RMSE        R2    set         modelo\n",
       "0  0.048693  0.035429  0.188227  0.964410   test  Random Forest\n",
       "1  0.047888  0.033603  0.183310  0.966424  train  Random Forest"
      ]
     },
     "execution_count": 57,
     "metadata": {},
     "output_type": "execute_result"
    }
   ],
   "source": [
    "# sacamos las métricas para ver si hay overfitting o unerfitting, para modificar la profundidad en función de estos resultados\n",
    "\n",
    "dt_results = metricas(y_test, y_train, y_pred_test_rf, y_pred_train_rf, \"Random Forest\")\n",
    "dt_results"
   ]
  },
  {
   "cell_type": "code",
   "execution_count": 59,
   "metadata": {},
   "outputs": [
    {
     "data": {
      "text/html": [
       "<div>\n",
       "<style scoped>\n",
       "    .dataframe tbody tr th:only-of-type {\n",
       "        vertical-align: middle;\n",
       "    }\n",
       "\n",
       "    .dataframe tbody tr th {\n",
       "        vertical-align: top;\n",
       "    }\n",
       "\n",
       "    .dataframe thead th {\n",
       "        text-align: right;\n",
       "    }\n",
       "</style>\n",
       "<table border=\"1\" class=\"dataframe\">\n",
       "  <thead>\n",
       "    <tr style=\"text-align: right;\">\n",
       "      <th></th>\n",
       "      <th>MAE</th>\n",
       "      <th>MSE</th>\n",
       "      <th>RMSE</th>\n",
       "      <th>R2</th>\n",
       "      <th>set</th>\n",
       "      <th>modelo</th>\n",
       "    </tr>\n",
       "  </thead>\n",
       "  <tbody>\n",
       "    <tr>\n",
       "      <th>0</th>\n",
       "      <td>2.434035e-02</td>\n",
       "      <td>1.702532e-02</td>\n",
       "      <td>1.304811e-01</td>\n",
       "      <td>0.982897</td>\n",
       "      <td>test</td>\n",
       "      <td>Decision Tree I</td>\n",
       "    </tr>\n",
       "    <tr>\n",
       "      <th>1</th>\n",
       "      <td>2.685032e-17</td>\n",
       "      <td>8.413105e-33</td>\n",
       "      <td>9.172298e-17</td>\n",
       "      <td>1.000000</td>\n",
       "      <td>train</td>\n",
       "      <td>Decision Tree I</td>\n",
       "    </tr>\n",
       "    <tr>\n",
       "      <th>0</th>\n",
       "      <td>6.619118e-02</td>\n",
       "      <td>4.189708e-02</td>\n",
       "      <td>2.046878e-01</td>\n",
       "      <td>0.957913</td>\n",
       "      <td>test</td>\n",
       "      <td>Decision tree II</td>\n",
       "    </tr>\n",
       "    <tr>\n",
       "      <th>1</th>\n",
       "      <td>6.436564e-02</td>\n",
       "      <td>3.922665e-02</td>\n",
       "      <td>1.980572e-01</td>\n",
       "      <td>0.960804</td>\n",
       "      <td>train</td>\n",
       "      <td>Decision tree II</td>\n",
       "    </tr>\n",
       "    <tr>\n",
       "      <th>0</th>\n",
       "      <td>1.521418e-01</td>\n",
       "      <td>7.439976e-02</td>\n",
       "      <td>2.727632e-01</td>\n",
       "      <td>0.925262</td>\n",
       "      <td>test</td>\n",
       "      <td>Linear Regresion</td>\n",
       "    </tr>\n",
       "    <tr>\n",
       "      <th>1</th>\n",
       "      <td>1.498925e-01</td>\n",
       "      <td>7.186377e-02</td>\n",
       "      <td>2.680742e-01</td>\n",
       "      <td>0.928192</td>\n",
       "      <td>train</td>\n",
       "      <td>LinearRegression</td>\n",
       "    </tr>\n",
       "  </tbody>\n",
       "</table>\n",
       "</div>"
      ],
      "text/plain": [
       "            MAE           MSE          RMSE        R2    set            modelo\n",
       "0  2.434035e-02  1.702532e-02  1.304811e-01  0.982897   test   Decision Tree I\n",
       "1  2.685032e-17  8.413105e-33  9.172298e-17  1.000000  train   Decision Tree I\n",
       "0  6.619118e-02  4.189708e-02  2.046878e-01  0.957913   test  Decision tree II\n",
       "1  6.436564e-02  3.922665e-02  1.980572e-01  0.960804  train  Decision tree II\n",
       "0  1.521418e-01  7.439976e-02  2.727632e-01  0.925262   test  Linear Regresion\n",
       "1  1.498925e-01  7.186377e-02  2.680742e-01  0.928192  train  LinearRegression"
      ]
     },
     "execution_count": 59,
     "metadata": {},
     "output_type": "execute_result"
    }
   ],
   "source": [
    "df_rdos_RL_DT=pd.read_csv('../datos/diamonds_rdos_DecisionT.csv', index_col=0)\n",
    "df_rdos_RL_DT.head(6)"
   ]
  },
  {
   "cell_type": "code",
   "execution_count": 66,
   "metadata": {},
   "outputs": [
    {
     "data": {
      "text/html": [
       "<div>\n",
       "<style scoped>\n",
       "    .dataframe tbody tr th:only-of-type {\n",
       "        vertical-align: middle;\n",
       "    }\n",
       "\n",
       "    .dataframe tbody tr th {\n",
       "        vertical-align: top;\n",
       "    }\n",
       "\n",
       "    .dataframe thead th {\n",
       "        text-align: right;\n",
       "    }\n",
       "</style>\n",
       "<table border=\"1\" class=\"dataframe\">\n",
       "  <thead>\n",
       "    <tr style=\"text-align: right;\">\n",
       "      <th></th>\n",
       "      <th>MAE</th>\n",
       "      <th>MSE</th>\n",
       "      <th>RMSE</th>\n",
       "      <th>R2</th>\n",
       "      <th>set</th>\n",
       "      <th>modelo</th>\n",
       "    </tr>\n",
       "  </thead>\n",
       "  <tbody>\n",
       "    <tr>\n",
       "      <th>0</th>\n",
       "      <td>4.869338e-02</td>\n",
       "      <td>3.542938e-02</td>\n",
       "      <td>1.882269e-01</td>\n",
       "      <td>0.964410</td>\n",
       "      <td>test</td>\n",
       "      <td>Random Forest</td>\n",
       "    </tr>\n",
       "    <tr>\n",
       "      <th>1</th>\n",
       "      <td>4.788827e-02</td>\n",
       "      <td>3.360260e-02</td>\n",
       "      <td>1.833101e-01</td>\n",
       "      <td>0.966424</td>\n",
       "      <td>train</td>\n",
       "      <td>Random Forest</td>\n",
       "    </tr>\n",
       "    <tr>\n",
       "      <th>0</th>\n",
       "      <td>2.434035e-02</td>\n",
       "      <td>1.702532e-02</td>\n",
       "      <td>1.304811e-01</td>\n",
       "      <td>0.982897</td>\n",
       "      <td>test</td>\n",
       "      <td>Decision Tree I</td>\n",
       "    </tr>\n",
       "    <tr>\n",
       "      <th>1</th>\n",
       "      <td>2.685032e-17</td>\n",
       "      <td>8.413105e-33</td>\n",
       "      <td>9.172298e-17</td>\n",
       "      <td>1.000000</td>\n",
       "      <td>train</td>\n",
       "      <td>Decision Tree I</td>\n",
       "    </tr>\n",
       "    <tr>\n",
       "      <th>0</th>\n",
       "      <td>6.619118e-02</td>\n",
       "      <td>4.189708e-02</td>\n",
       "      <td>2.046878e-01</td>\n",
       "      <td>0.957913</td>\n",
       "      <td>test</td>\n",
       "      <td>Decision tree II</td>\n",
       "    </tr>\n",
       "    <tr>\n",
       "      <th>1</th>\n",
       "      <td>6.436564e-02</td>\n",
       "      <td>3.922665e-02</td>\n",
       "      <td>1.980572e-01</td>\n",
       "      <td>0.960804</td>\n",
       "      <td>train</td>\n",
       "      <td>Decision tree II</td>\n",
       "    </tr>\n",
       "    <tr>\n",
       "      <th>0</th>\n",
       "      <td>1.521418e-01</td>\n",
       "      <td>7.439976e-02</td>\n",
       "      <td>2.727632e-01</td>\n",
       "      <td>0.925262</td>\n",
       "      <td>test</td>\n",
       "      <td>Linear Regresion</td>\n",
       "    </tr>\n",
       "    <tr>\n",
       "      <th>1</th>\n",
       "      <td>1.498925e-01</td>\n",
       "      <td>7.186377e-02</td>\n",
       "      <td>2.680742e-01</td>\n",
       "      <td>0.928192</td>\n",
       "      <td>train</td>\n",
       "      <td>LinearRegression</td>\n",
       "    </tr>\n",
       "  </tbody>\n",
       "</table>\n",
       "</div>"
      ],
      "text/plain": [
       "            MAE           MSE          RMSE        R2    set            modelo\n",
       "0  4.869338e-02  3.542938e-02  1.882269e-01  0.964410   test     Random Forest\n",
       "1  4.788827e-02  3.360260e-02  1.833101e-01  0.966424  train     Random Forest\n",
       "0  2.434035e-02  1.702532e-02  1.304811e-01  0.982897   test   Decision Tree I\n",
       "1  2.685032e-17  8.413105e-33  9.172298e-17  1.000000  train   Decision Tree I\n",
       "0  6.619118e-02  4.189708e-02  2.046878e-01  0.957913   test  Decision tree II\n",
       "1  6.436564e-02  3.922665e-02  1.980572e-01  0.960804  train  Decision tree II\n",
       "0  1.521418e-01  7.439976e-02  2.727632e-01  0.925262   test  Linear Regresion\n",
       "1  1.498925e-01  7.186377e-02  2.680742e-01  0.928192  train  LinearRegression"
      ]
     },
     "execution_count": 66,
     "metadata": {},
     "output_type": "execute_result"
    }
   ],
   "source": [
    "# Unimos los resultados obtenidos de las metricas mediante el metodo Ramdon Forest con el csv \n",
    "# generado en el pair de Decision Tree donde obtuvimos resultados de las metricas (DTI, DTII \n",
    "# y Regresion lineal). \n",
    "df_todos_resultados = pd.concat([dt_results,df_rdos_RL_DT], axis = 0)\n",
    "df_todos_resultados"
   ]
  },
  {
   "cell_type": "code",
   "execution_count": 67,
   "metadata": {},
   "outputs": [
    {
     "name": "stdout",
     "output_type": "stream",
     "text": [
      "Importancia de los predictores en el modelo\n",
      "-------------------------------------------\n"
     ]
    },
    {
     "data": {
      "text/html": [
       "<div>\n",
       "<style scoped>\n",
       "    .dataframe tbody tr th:only-of-type {\n",
       "        vertical-align: middle;\n",
       "    }\n",
       "\n",
       "    .dataframe tbody tr th {\n",
       "        vertical-align: top;\n",
       "    }\n",
       "\n",
       "    .dataframe thead th {\n",
       "        text-align: right;\n",
       "    }\n",
       "</style>\n",
       "<table border=\"1\" class=\"dataframe\">\n",
       "  <thead>\n",
       "    <tr style=\"text-align: right;\">\n",
       "      <th></th>\n",
       "      <th>predictor</th>\n",
       "      <th>importancia</th>\n",
       "    </tr>\n",
       "  </thead>\n",
       "  <tbody>\n",
       "    <tr>\n",
       "      <th>3</th>\n",
       "      <td>est_lenght_mm</td>\n",
       "      <td>0.364221</td>\n",
       "    </tr>\n",
       "    <tr>\n",
       "      <th>4</th>\n",
       "      <td>est_width_mm</td>\n",
       "      <td>0.247291</td>\n",
       "    </tr>\n",
       "    <tr>\n",
       "      <th>5</th>\n",
       "      <td>est_depth_mm</td>\n",
       "      <td>0.234906</td>\n",
       "    </tr>\n",
       "    <tr>\n",
       "      <th>2</th>\n",
       "      <td>est_price</td>\n",
       "      <td>0.148399</td>\n",
       "    </tr>\n",
       "    <tr>\n",
       "      <th>1</th>\n",
       "      <td>est_table</td>\n",
       "      <td>0.003125</td>\n",
       "    </tr>\n",
       "    <tr>\n",
       "      <th>7</th>\n",
       "      <td>clarity_encoded</td>\n",
       "      <td>0.000872</td>\n",
       "    </tr>\n",
       "    <tr>\n",
       "      <th>8</th>\n",
       "      <td>color_encoded</td>\n",
       "      <td>0.000750</td>\n",
       "    </tr>\n",
       "    <tr>\n",
       "      <th>0</th>\n",
       "      <td>est_depth</td>\n",
       "      <td>0.000357</td>\n",
       "    </tr>\n",
       "    <tr>\n",
       "      <th>6</th>\n",
       "      <td>cut_encoded</td>\n",
       "      <td>0.000078</td>\n",
       "    </tr>\n",
       "  </tbody>\n",
       "</table>\n",
       "</div>"
      ],
      "text/plain": [
       "         predictor  importancia\n",
       "3    est_lenght_mm     0.364221\n",
       "4     est_width_mm     0.247291\n",
       "5     est_depth_mm     0.234906\n",
       "2        est_price     0.148399\n",
       "1        est_table     0.003125\n",
       "7  clarity_encoded     0.000872\n",
       "8    color_encoded     0.000750\n",
       "0        est_depth     0.000357\n",
       "6      cut_encoded     0.000078"
      ]
     },
     "execution_count": 67,
     "metadata": {},
     "output_type": "execute_result"
    }
   ],
   "source": [
    "#Crearnos un dataframe, igual que hicimos en la clase anterior con la importancia de cada una de las variables incluidas en el modelo\n",
    "importancia_predictores = pd.DataFrame(\n",
    "                            {'predictor': x_train.columns,\n",
    "                             'importancia': bosque.feature_importances_}\n",
    "                            )\n",
    "\n",
    "# ordenamos los rdos. de menor a mayor \n",
    "importancia_predictores.sort_values(by=[\"importancia\"], ascending=False, inplace = True)\n",
    "\n",
    "print(\"Importancia de los predictores en el modelo\")\n",
    "print(\"-------------------------------------------\")\n",
    "importancia_predictores"
   ]
  },
  {
   "cell_type": "code",
   "execution_count": 68,
   "metadata": {},
   "outputs": [
    {
     "data": {
      "image/png": "[encoded data removed]",
      "text/plain": [
       "<Figure size 720x432 with 1 Axes>"
      ]
     },
     "metadata": {
      "needs_background": "light"
     },
     "output_type": "display_data"
    }
   ],
   "source": [
    "#Para poder apreciar visualmente la importancia predictora del modelo segun la importancia de cada una de las variables, ploteamos los resultados.\n",
    "plt.figure(figsize=(10,6))\n",
    "sns.barplot(x = \"importancia\", y = \"predictor\", data = importancia_predictores, palette=\"pink\");\n",
    "plt.show()"
   ]
  },
  {
   "cell_type": "code",
   "execution_count": 69,
   "metadata": {},
   "outputs": [],
   "source": [
    "#Gardamos el csv con el total de resultados obtenidos en RL, DT y Random Forest. \n",
    "df_todos_resultados.to_csv(\"../datos/diamonds_rdos_totales.csv\")"
   ]
  }
 ],
 "metadata": {
  "kernelspec": {
   "display_name": "Python 3.9.7 ('base')",
   "language": "python",
   "name": "python3"
  },
  "language_info": {
   "codemirror_mode": {
    "name": "ipython",
    "version": 3
   },
   "file_extension": ".py",
   "mimetype": "text/x-python",
   "name": "python",
   "nbconvert_exporter": "python",
   "pygments_lexer": "ipython3",
   "version": "3.9.7"
  },
  "orig_nbformat": 4,
  "vscode": {
   "interpreter": {
    "hash": "252c28c73334dc448966c55846d6aa799713735e1772b1237f15441ac08135d3"
   }
  }
 },
 "nbformat": 4,
 "nbformat_minor": 2
}
