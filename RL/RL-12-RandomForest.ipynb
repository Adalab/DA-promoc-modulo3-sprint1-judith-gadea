{
 "cells": [
  {
   "cell_type": "markdown",
   "metadata": {},
   "source": [
    "### Pair Programming Random Forest\n",
    "\n",
    "Hasta ahora hemos ajustado el modelo usando una Regresión Logística, pero como hemos aprendido, podemos usar el Random Forest en este tipo de problemas. Los objetivos de este pair programming :\n",
    "\n",
    "1. Ajustad un modelo de Random Forest a nuestros datos.\n",
    "\n",
    "2. Calculad las métricas a nuestro nuevo modelo.\n",
    "\n",
    "3. Comparad las métricas con los modelos hechos hasta ahora. ¿Cuál es mejor?"
   ]
  }
 ],
 "metadata": {
  "language_info": {
   "name": "python"
  },
  "orig_nbformat": 4
 },
 "nbformat": 4,
 "nbformat_minor": 2
}
