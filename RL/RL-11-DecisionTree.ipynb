{
 "cells": [
  {
   "cell_type": "markdown",
   "metadata": {},
   "source": [
    "### Pair Programming Decision Tree\n",
    "\n",
    "Hasta ahora hemos ajustado el modelo usando una Regresión Logística, pero como hemos aprendido, podemos usar el Decision Tree en este tipo de problemas. Los objetivos de este pair programming :\n",
    "\n",
    "1. Ajustad un modelo de Decision Tree a nuestros datos.\n",
    "\n",
    "2. Calculad las métricas a nuestro nuevo modelo.\n",
    "\n",
    "3. Comparad las métricas con el modelo hecho hasta ahora. ¿Cuál es mejor?"
   ]
  },
  {
   "cell_type": "code",
   "execution_count": 44,
   "metadata": {},
   "outputs": [],
   "source": [
    "# Tratamiento de datos\n",
    "# ------------------------------------------------------------------------------\n",
    "import numpy as np\n",
    "import pandas as pd\n",
    "\n",
    "# Gráficos\n",
    "# ------------------------------------------------------------------------------\n",
    "import matplotlib.pyplot as plt\n",
    "import seaborn as sns\n",
    "\n",
    "# Modelado y evaluación\n",
    "# ------------------------------------------------------------------------------\n",
    "from sklearn.model_selection import train_test_split\n",
    "from sklearn.tree import DecisionTreeRegressor\n",
    "from sklearn import tree\n",
    "from sklearn.metrics import r2_score, mean_squared_error, mean_absolute_error\n",
    "from sklearn.model_selection import GridSearchCV\n",
    "\n",
    "# Configuración warnings\n",
    "# ------------------------------------------------------------------------------\n",
    "import warnings\n",
    "warnings.filterwarnings('ignore')"
   ]
  },
  {
   "cell_type": "markdown",
   "metadata": {},
   "source": [
    "1. Ajustad un modelo de Decision Tree a nuestros datos.\n",
    "\n",
    "2. Calculad las métricas a nuestro nuevo modelo.\n",
    "\n",
    "3. Comparad las métricas con el modelo hecho hasta ahora. ¿Cuál es mejor?"
   ]
  },
  {
   "cell_type": "code",
   "execution_count": 45,
   "metadata": {},
   "outputs": [
    {
     "data": {
      "text/html": [
       "<div>\n",
       "<style scoped>\n",
       "    .dataframe tbody tr th:only-of-type {\n",
       "        vertical-align: middle;\n",
       "    }\n",
       "\n",
       "    .dataframe tbody tr th {\n",
       "        vertical-align: top;\n",
       "    }\n",
       "\n",
       "    .dataframe thead th {\n",
       "        text-align: right;\n",
       "    }\n",
       "</style>\n",
       "<table border=\"1\" class=\"dataframe\">\n",
       "  <thead>\n",
       "    <tr style=\"text-align: right;\">\n",
       "      <th></th>\n",
       "      <th>est_carat</th>\n",
       "      <th>est_depth</th>\n",
       "      <th>est_table</th>\n",
       "      <th>est_price</th>\n",
       "      <th>est_lenght_mm</th>\n",
       "      <th>est_width_mm</th>\n",
       "      <th>est_depth_mm</th>\n",
       "      <th>cut_encoded</th>\n",
       "      <th>clarity_encoded</th>\n",
       "      <th>color_encoded</th>\n",
       "    </tr>\n",
       "  </thead>\n",
       "  <tbody>\n",
       "    <tr>\n",
       "      <th>1</th>\n",
       "      <td>-1.268160</td>\n",
       "      <td>-1.597233</td>\n",
       "      <td>1.661056</td>\n",
       "      <td>-0.986397</td>\n",
       "      <td>-1.646799</td>\n",
       "      <td>-1.705394</td>\n",
       "      <td>-1.780396</td>\n",
       "      <td>5</td>\n",
       "      <td>3</td>\n",
       "      <td>2</td>\n",
       "    </tr>\n",
       "    <tr>\n",
       "      <th>2</th>\n",
       "      <td>-1.224362</td>\n",
       "      <td>0.042616</td>\n",
       "      <td>3.519383</td>\n",
       "      <td>-0.986075</td>\n",
       "      <td>-1.503737</td>\n",
       "      <td>-1.498268</td>\n",
       "      <td>-1.780396</td>\n",
       "      <td>4</td>\n",
       "      <td>1</td>\n",
       "      <td>2</td>\n",
       "    </tr>\n",
       "    <tr>\n",
       "      <th>3</th>\n",
       "      <td>-1.092965</td>\n",
       "      <td>0.534571</td>\n",
       "      <td>0.267310</td>\n",
       "      <td>-0.983820</td>\n",
       "      <td>-1.369617</td>\n",
       "      <td>-1.354180</td>\n",
       "      <td>-1.316852</td>\n",
       "      <td>2</td>\n",
       "      <td>4</td>\n",
       "      <td>2</td>\n",
       "    </tr>\n",
       "  </tbody>\n",
       "</table>\n",
       "</div>"
      ],
      "text/plain": [
       "   est_carat  est_depth  est_table  est_price  est_lenght_mm  est_width_mm  \\\n",
       "1  -1.268160  -1.597233   1.661056  -0.986397      -1.646799     -1.705394   \n",
       "2  -1.224362   0.042616   3.519383  -0.986075      -1.503737     -1.498268   \n",
       "3  -1.092965   0.534571   0.267310  -0.983820      -1.369617     -1.354180   \n",
       "\n",
       "   est_depth_mm  cut_encoded  clarity_encoded  color_encoded  \n",
       "1     -1.780396            5                3              2  \n",
       "2     -1.780396            4                1              2  \n",
       "3     -1.316852            2                4              2  "
      ]
     },
     "execution_count": 45,
     "metadata": {},
     "output_type": "execute_result"
    }
   ],
   "source": [
    "df=pd.read_csv('../datos/diamonds_def.csv', index_col=0)\n",
    "df.head(3)"
   ]
  },
  {
   "cell_type": "code",
   "execution_count": 46,
   "metadata": {},
   "outputs": [],
   "source": [
    "#Separamos el df de la VR.\n",
    "x = df.drop(\"est_carat\", axis = 1) #Este es el df sin la VR.\n",
    "y = df[\"est_carat\"] #VR."
   ]
  },
  {
   "cell_type": "code",
   "execution_count": 47,
   "metadata": {},
   "outputs": [],
   "source": [
    "x_train, x_test, y_train, y_test = train_test_split(x, y, test_size = 0.2, random_state = 42)"
   ]
  },
  {
   "cell_type": "code",
   "execution_count": 48,
   "metadata": {},
   "outputs": [
    {
     "data": {
      "text/plain": [
       "DecisionTreeRegressor(random_state=0)"
      ]
     },
     "execution_count": 48,
     "metadata": {},
     "output_type": "execute_result"
    }
   ],
   "source": [
    "# creamos el objeto del modelo, al igual que hacíamos en la regresión lineal\n",
    "arbol = DecisionTreeRegressor(random_state =0)\n",
    "\n",
    "# ajustamos el modelo\n",
    "arbol.fit(x_train, y_train)"
   ]
  },
  {
   "cell_type": "code",
   "execution_count": 49,
   "metadata": {},
   "outputs": [],
   "source": [
    "# fig = plt.figure(figsize = (10,6))\n",
    "# tree.plot_tree(arbol, feature_names = x_train.columns, filled = True)\n",
    "# plt.show()"
   ]
  },
  {
   "cell_type": "code",
   "execution_count": 50,
   "metadata": {},
   "outputs": [
    {
     "data": {
      "text/plain": [
       "3.0"
      ]
     },
     "execution_count": 50,
     "metadata": {},
     "output_type": "execute_result"
    }
   ],
   "source": [
    "max_features = np.sqrt(len(x_train.columns))\n",
    "max_features"
   ]
  },
  {
   "cell_type": "code",
   "execution_count": 51,
   "metadata": {},
   "outputs": [
    {
     "name": "stdout",
     "output_type": "stream",
     "text": [
      "35\n"
     ]
    }
   ],
   "source": [
    "print(arbol.tree_.max_depth)"
   ]
  },
  {
   "cell_type": "code",
   "execution_count": 52,
   "metadata": {},
   "outputs": [],
   "source": [
    "# hacemos las predicciones sobre los dos set de datos el X_test y el X_train\n",
    "y_pred_test_dt = arbol.predict(x_test)\n",
    "y_pred_train_dt = arbol.predict(x_train)"
   ]
  },
  {
   "cell_type": "code",
   "execution_count": 53,
   "metadata": {},
   "outputs": [],
   "source": [
    "def metricas(y_test, y_train, y_test_pred, y_train_pred, tipo_modelo):\n",
    "    \n",
    "    \n",
    "    resultados = {'MAE': [mean_absolute_error(y_test, y_test_pred), mean_absolute_error(y_train, y_train_pred)],\n",
    "                'MSE': [mean_squared_error(y_test, y_test_pred), mean_squared_error(y_train, y_train_pred)],\n",
    "                'RMSE': [np.sqrt(mean_squared_error(y_test, y_test_pred)), np.sqrt(mean_squared_error(y_train, y_train_pred))],\n",
    "                'R2':  [r2_score(y_test, y_test_pred), r2_score(y_train, y_train_pred)],\n",
    "                 \"set\": [\"test\", \"train\"]}\n",
    "    df = pd.DataFrame(resultados)\n",
    "    df[\"modelo\"] = tipo_modelo\n",
    "    return df"
   ]
  },
  {
   "cell_type": "code",
   "execution_count": 54,
   "metadata": {},
   "outputs": [
    {
     "data": {
      "text/html": [
       "<div>\n",
       "<style scoped>\n",
       "    .dataframe tbody tr th:only-of-type {\n",
       "        vertical-align: middle;\n",
       "    }\n",
       "\n",
       "    .dataframe tbody tr th {\n",
       "        vertical-align: top;\n",
       "    }\n",
       "\n",
       "    .dataframe thead th {\n",
       "        text-align: right;\n",
       "    }\n",
       "</style>\n",
       "<table border=\"1\" class=\"dataframe\">\n",
       "  <thead>\n",
       "    <tr style=\"text-align: right;\">\n",
       "      <th></th>\n",
       "      <th>MAE</th>\n",
       "      <th>MSE</th>\n",
       "      <th>RMSE</th>\n",
       "      <th>R2</th>\n",
       "      <th>set</th>\n",
       "      <th>modelo</th>\n",
       "    </tr>\n",
       "  </thead>\n",
       "  <tbody>\n",
       "    <tr>\n",
       "      <th>0</th>\n",
       "      <td>2.434035e-02</td>\n",
       "      <td>1.702532e-02</td>\n",
       "      <td>1.304811e-01</td>\n",
       "      <td>0.982897</td>\n",
       "      <td>test</td>\n",
       "      <td>Decision Tree I</td>\n",
       "    </tr>\n",
       "    <tr>\n",
       "      <th>1</th>\n",
       "      <td>2.685032e-17</td>\n",
       "      <td>8.413105e-33</td>\n",
       "      <td>9.172298e-17</td>\n",
       "      <td>1.000000</td>\n",
       "      <td>train</td>\n",
       "      <td>Decision Tree I</td>\n",
       "    </tr>\n",
       "  </tbody>\n",
       "</table>\n",
       "</div>"
      ],
      "text/plain": [
       "            MAE           MSE          RMSE        R2    set           modelo\n",
       "0  2.434035e-02  1.702532e-02  1.304811e-01  0.982897   test  Decision Tree I\n",
       "1  2.685032e-17  8.413105e-33  9.172298e-17  1.000000  train  Decision Tree I"
      ]
     },
     "execution_count": 54,
     "metadata": {},
     "output_type": "execute_result"
    }
   ],
   "source": [
    "# sacamos las métricas para ver si hay overfitting o unerfitting, para modificar la profundidad en función de estos resultados\n",
    "\n",
    "dt_results1 = metricas(y_test, y_train, y_pred_test_dt, y_pred_train_dt, \"Decision Tree I\")\n",
    "dt_results1"
   ]
  },
  {
   "cell_type": "code",
   "execution_count": 55,
   "metadata": {},
   "outputs": [],
   "source": [
    "# lo primero que tenemos que hacer es definir un diccionario con los hiperparámetros que queremos modificar y los valores que queremos \n",
    "\n",
    "param = {\"max_depth\": [3,7,17], #La pofundidad del arbol es de 35. Facilitamos parámetros que nos permitan dividir por la mitad para ajustar lo máximo posible.\n",
    "        \"max_features\": [1,2,3],#El resultado de la raiz cuadrada es de 3 por lo que pasamos parametros inferiores para volver a ajustar correctamente.\n",
    "        # estos dos hiperparámetros son más difíciles de definir, pero usualmente se suelen elegir los siguientes valores\n",
    "        \"min_samples_split\": [500, 1000, 1500], #Asociamos estos tres parametros al nodo madrepara reducir el overfitting y ajustarnos en la medida de lo posible relacion lineal.\n",
    "        \"min_samples_leaf\": [300,800,1300]} #Asociamos estos tres parametros al nodo hijo para reducir el overfitting y ajustarnos en la medida de lo posible relacion lineal."
   ]
  },
  {
   "cell_type": "code",
   "execution_count": 56,
   "metadata": {},
   "outputs": [],
   "source": [
    "# una vez creado el diccionario iniciaremos el modelo con GridSearch\n",
    "gs = GridSearchCV(\n",
    "            estimator=DecisionTreeRegressor(), # tipo de modelo que queremos hacer\n",
    "            param_grid= param, # que hiperparámetros queremos que testee\n",
    "            cv=10, # crossvalidation que aprendimos en la lección de regresión lineal intro. \n",
    "            verbose=-1, # para que no nos printee ningún mensaje en pantalla\n",
    "            return_train_score = True, # para que nos devuelva el valor de las métricas de set de datos de entrenamiento\n",
    "            scoring=\"neg_mean_squared_error\") # la métrica que queremos que nos devuelva"
   ]
  },
  {
   "cell_type": "code",
   "execution_count": 57,
   "metadata": {},
   "outputs": [],
   "source": [
    "gs.fit(x_train, y_train)"
   ]
  },
  {
   "cell_type": "code",
   "execution_count": null,
   "metadata": {},
   "outputs": [
    {
     "data": {
      "text/plain": [
       "DecisionTreeRegressor(max_depth=17, max_features=3, min_samples_leaf=300,\n",
       "                      min_samples_split=500)"
      ]
     },
     "execution_count": 16,
     "metadata": {},
     "output_type": "execute_result"
    }
   ],
   "source": [
    "mejor_modelo = gs.best_estimator_\n",
    "mejor_modelo"
   ]
  },
  {
   "cell_type": "code",
   "execution_count": null,
   "metadata": {},
   "outputs": [],
   "source": [
    "# veamos ahora que pinta tiene nuestro árbol\n",
    "# fig = plt.figure(figsize=(40, 20))\n",
    "# tree.plot_tree(mejor_modelo, feature_names=x_train.columns, filled=True);"
   ]
  },
  {
   "cell_type": "code",
   "execution_count": null,
   "metadata": {},
   "outputs": [],
   "source": [
    "y_pred_test_dt2 = mejor_modelo.predict(x_test)\n",
    "y_pred_train_dt2 = mejor_modelo.predict(x_train)"
   ]
  },
  {
   "cell_type": "code",
   "execution_count": null,
   "metadata": {},
   "outputs": [
    {
     "data": {
      "text/html": [
       "<div>\n",
       "<style scoped>\n",
       "    .dataframe tbody tr th:only-of-type {\n",
       "        vertical-align: middle;\n",
       "    }\n",
       "\n",
       "    .dataframe tbody tr th {\n",
       "        vertical-align: top;\n",
       "    }\n",
       "\n",
       "    .dataframe thead th {\n",
       "        text-align: right;\n",
       "    }\n",
       "</style>\n",
       "<table border=\"1\" class=\"dataframe\">\n",
       "  <thead>\n",
       "    <tr style=\"text-align: right;\">\n",
       "      <th></th>\n",
       "      <th>MAE</th>\n",
       "      <th>MSE</th>\n",
       "      <th>RMSE</th>\n",
       "      <th>R2</th>\n",
       "      <th>set</th>\n",
       "      <th>modelo</th>\n",
       "    </tr>\n",
       "  </thead>\n",
       "  <tbody>\n",
       "    <tr>\n",
       "      <th>0</th>\n",
       "      <td>0.066220</td>\n",
       "      <td>0.042396</td>\n",
       "      <td>0.205903</td>\n",
       "      <td>0.957411</td>\n",
       "      <td>test</td>\n",
       "      <td>Decision tree II</td>\n",
       "    </tr>\n",
       "    <tr>\n",
       "      <th>1</th>\n",
       "      <td>0.063966</td>\n",
       "      <td>0.040035</td>\n",
       "      <td>0.200088</td>\n",
       "      <td>0.959996</td>\n",
       "      <td>train</td>\n",
       "      <td>Decision tree II</td>\n",
       "    </tr>\n",
       "  </tbody>\n",
       "</table>\n",
       "</div>"
      ],
      "text/plain": [
       "        MAE       MSE      RMSE        R2    set            modelo\n",
       "0  0.066220  0.042396  0.205903  0.957411   test  Decision tree II\n",
       "1  0.063966  0.040035  0.200088  0.959996  train  Decision tree II"
      ]
     },
     "execution_count": 18,
     "metadata": {},
     "output_type": "execute_result"
    }
   ],
   "source": [
    "dt_results2 = metricas(y_test, y_train, y_pred_test_dt2, y_pred_train_dt2, \"Decision tree II\")\n",
    "dt_results2"
   ]
  },
  {
   "cell_type": "code",
   "execution_count": null,
   "metadata": {},
   "outputs": [
    {
     "data": {
      "text/html": [
       "<div>\n",
       "<style scoped>\n",
       "    .dataframe tbody tr th:only-of-type {\n",
       "        vertical-align: middle;\n",
       "    }\n",
       "\n",
       "    .dataframe tbody tr th {\n",
       "        vertical-align: top;\n",
       "    }\n",
       "\n",
       "    .dataframe thead th {\n",
       "        text-align: right;\n",
       "    }\n",
       "</style>\n",
       "<table border=\"1\" class=\"dataframe\">\n",
       "  <thead>\n",
       "    <tr style=\"text-align: right;\">\n",
       "      <th></th>\n",
       "      <th>MAE</th>\n",
       "      <th>MSE</th>\n",
       "      <th>RMSE</th>\n",
       "      <th>R2</th>\n",
       "      <th>set</th>\n",
       "      <th>modelo</th>\n",
       "    </tr>\n",
       "  </thead>\n",
       "  <tbody>\n",
       "    <tr>\n",
       "      <th>0</th>\n",
       "      <td>2.434035e-02</td>\n",
       "      <td>1.702532e-02</td>\n",
       "      <td>1.304811e-01</td>\n",
       "      <td>0.982897</td>\n",
       "      <td>test</td>\n",
       "      <td>Decission Tree I</td>\n",
       "    </tr>\n",
       "    <tr>\n",
       "      <th>1</th>\n",
       "      <td>2.685032e-17</td>\n",
       "      <td>8.413105e-33</td>\n",
       "      <td>9.172298e-17</td>\n",
       "      <td>1.000000</td>\n",
       "      <td>train</td>\n",
       "      <td>Decission Tree I</td>\n",
       "    </tr>\n",
       "    <tr>\n",
       "      <th>0</th>\n",
       "      <td>6.621966e-02</td>\n",
       "      <td>4.239591e-02</td>\n",
       "      <td>2.059027e-01</td>\n",
       "      <td>0.957411</td>\n",
       "      <td>test</td>\n",
       "      <td>Decision tree II</td>\n",
       "    </tr>\n",
       "    <tr>\n",
       "      <th>1</th>\n",
       "      <td>6.396635e-02</td>\n",
       "      <td>4.003527e-02</td>\n",
       "      <td>2.000882e-01</td>\n",
       "      <td>0.959996</td>\n",
       "      <td>train</td>\n",
       "      <td>Decision tree II</td>\n",
       "    </tr>\n",
       "  </tbody>\n",
       "</table>\n",
       "</div>"
      ],
      "text/plain": [
       "            MAE           MSE          RMSE        R2    set            modelo\n",
       "0  2.434035e-02  1.702532e-02  1.304811e-01  0.982897   test  Decission Tree I\n",
       "1  2.685032e-17  8.413105e-33  9.172298e-17  1.000000  train  Decission Tree I\n",
       "0  6.621966e-02  4.239591e-02  2.059027e-01  0.957411   test  Decision tree II\n",
       "1  6.396635e-02  4.003527e-02  2.000882e-01  0.959996  train  Decision tree II"
      ]
     },
     "execution_count": 19,
     "metadata": {},
     "output_type": "execute_result"
    }
   ],
   "source": [
    "# vamos  a juntar los dataframes de los resultados de los modelos para poder compararlos mejor\n",
    "\n",
    "df_decision_results = pd.concat([dt_results1, dt_results2], axis = 0)\n",
    "df_decision_results"
   ]
  },
  {
   "cell_type": "code",
   "execution_count": null,
   "metadata": {},
   "outputs": [
    {
     "data": {
      "text/html": [
       "<div>\n",
       "<style scoped>\n",
       "    .dataframe tbody tr th:only-of-type {\n",
       "        vertical-align: middle;\n",
       "    }\n",
       "\n",
       "    .dataframe tbody tr th {\n",
       "        vertical-align: top;\n",
       "    }\n",
       "\n",
       "    .dataframe thead th {\n",
       "        text-align: right;\n",
       "    }\n",
       "</style>\n",
       "<table border=\"1\" class=\"dataframe\">\n",
       "  <thead>\n",
       "    <tr style=\"text-align: right;\">\n",
       "      <th></th>\n",
       "      <th>MAE</th>\n",
       "      <th>MSE</th>\n",
       "      <th>RMSE</th>\n",
       "      <th>R2</th>\n",
       "      <th>set</th>\n",
       "      <th>modelo</th>\n",
       "    </tr>\n",
       "  </thead>\n",
       "  <tbody>\n",
       "    <tr>\n",
       "      <th>0</th>\n",
       "      <td>0.152142</td>\n",
       "      <td>0.074400</td>\n",
       "      <td>0.272763</td>\n",
       "      <td>0.925262</td>\n",
       "      <td>test</td>\n",
       "      <td>Linear Regresion</td>\n",
       "    </tr>\n",
       "    <tr>\n",
       "      <th>1</th>\n",
       "      <td>0.149893</td>\n",
       "      <td>0.071864</td>\n",
       "      <td>0.268074</td>\n",
       "      <td>0.928192</td>\n",
       "      <td>train</td>\n",
       "      <td>LinearRegression</td>\n",
       "    </tr>\n",
       "  </tbody>\n",
       "</table>\n",
       "</div>"
      ],
      "text/plain": [
       "        MAE       MSE      RMSE        R2    set            modelo\n",
       "0  0.152142  0.074400  0.272763  0.925262   test  Linear Regresion\n",
       "1  0.149893  0.071864  0.268074  0.928192  train  LinearRegression"
      ]
     },
     "execution_count": 32,
     "metadata": {},
     "output_type": "execute_result"
    }
   ],
   "source": [
    "#si recodáis, en la clase de métricas guardamos en un csv los resultados de las métricas del modelo de regresión lineal\n",
    "# hoy vamos a cargar ese csv y lo vamos a unir al dataframe que acabamos de crear con los resultados del decision tree para comparar las métricas\n",
    "df_resultados_metricas = pd.read_csv(\"../datos/diamonds_rdos_metricas.csv\", index_col=0)\n",
    "df_resultados_metricas.head(2)"
   ]
  },
  {
   "cell_type": "code",
   "execution_count": null,
   "metadata": {},
   "outputs": [
    {
     "data": {
      "text/html": [
       "<div>\n",
       "<style scoped>\n",
       "    .dataframe tbody tr th:only-of-type {\n",
       "        vertical-align: middle;\n",
       "    }\n",
       "\n",
       "    .dataframe tbody tr th {\n",
       "        vertical-align: top;\n",
       "    }\n",
       "\n",
       "    .dataframe thead th {\n",
       "        text-align: right;\n",
       "    }\n",
       "</style>\n",
       "<table border=\"1\" class=\"dataframe\">\n",
       "  <thead>\n",
       "    <tr style=\"text-align: right;\">\n",
       "      <th></th>\n",
       "      <th>MAE</th>\n",
       "      <th>MSE</th>\n",
       "      <th>RMSE</th>\n",
       "      <th>R2</th>\n",
       "      <th>set</th>\n",
       "      <th>modelo</th>\n",
       "    </tr>\n",
       "  </thead>\n",
       "  <tbody>\n",
       "    <tr>\n",
       "      <th>0</th>\n",
       "      <td>2.434035e-02</td>\n",
       "      <td>1.702532e-02</td>\n",
       "      <td>1.304811e-01</td>\n",
       "      <td>0.982897</td>\n",
       "      <td>test</td>\n",
       "      <td>Decission Tree I</td>\n",
       "    </tr>\n",
       "    <tr>\n",
       "      <th>1</th>\n",
       "      <td>2.685032e-17</td>\n",
       "      <td>8.413105e-33</td>\n",
       "      <td>9.172298e-17</td>\n",
       "      <td>1.000000</td>\n",
       "      <td>train</td>\n",
       "      <td>Decission Tree I</td>\n",
       "    </tr>\n",
       "    <tr>\n",
       "      <th>0</th>\n",
       "      <td>6.621966e-02</td>\n",
       "      <td>4.239591e-02</td>\n",
       "      <td>2.059027e-01</td>\n",
       "      <td>0.957411</td>\n",
       "      <td>test</td>\n",
       "      <td>Decision tree II</td>\n",
       "    </tr>\n",
       "    <tr>\n",
       "      <th>1</th>\n",
       "      <td>6.396635e-02</td>\n",
       "      <td>4.003527e-02</td>\n",
       "      <td>2.000882e-01</td>\n",
       "      <td>0.959996</td>\n",
       "      <td>train</td>\n",
       "      <td>Decision tree II</td>\n",
       "    </tr>\n",
       "    <tr>\n",
       "      <th>0</th>\n",
       "      <td>1.521418e-01</td>\n",
       "      <td>7.439976e-02</td>\n",
       "      <td>2.727632e-01</td>\n",
       "      <td>0.925262</td>\n",
       "      <td>test</td>\n",
       "      <td>Linear Regresion</td>\n",
       "    </tr>\n",
       "    <tr>\n",
       "      <th>1</th>\n",
       "      <td>1.498925e-01</td>\n",
       "      <td>7.186377e-02</td>\n",
       "      <td>2.680742e-01</td>\n",
       "      <td>0.928192</td>\n",
       "      <td>train</td>\n",
       "      <td>LinearRegression</td>\n",
       "    </tr>\n",
       "  </tbody>\n",
       "</table>\n",
       "</div>"
      ],
      "text/plain": [
       "            MAE           MSE          RMSE        R2    set            modelo\n",
       "0  2.434035e-02  1.702532e-02  1.304811e-01  0.982897   test  Decission Tree I\n",
       "1  2.685032e-17  8.413105e-33  9.172298e-17  1.000000  train  Decission Tree I\n",
       "0  6.621966e-02  4.239591e-02  2.059027e-01  0.957411   test  Decision tree II\n",
       "1  6.396635e-02  4.003527e-02  2.000882e-01  0.959996  train  Decision tree II\n",
       "0  1.521418e-01  7.439976e-02  2.727632e-01  0.925262   test  Linear Regresion\n",
       "1  1.498925e-01  7.186377e-02  2.680742e-01  0.928192  train  LinearRegression"
      ]
     },
     "execution_count": 36,
     "metadata": {},
     "output_type": "execute_result"
    }
   ],
   "source": [
    "df_metricas_RL_DT = pd.concat([df_decision_results, df_resultados_metricas ], axis = 0)\n",
    "df_metricas_RL_DT.head(6)"
   ]
  },
  {
   "cell_type": "markdown",
   "metadata": {},
   "source": [
    "> Vemos que el modelo que mejor se ajusta es el obtenido en el primer arbol de Decision Tree I, donde apreciamos que en el entrenamiento predice de manera perfecta (R2=1), y el resto de las metricas, y en el resto de las métricas, es el modelo que más se acerca al 0. Reflejando, por lo tanto, un mejor ajuste que el resto de modelos."
   ]
  }
 ],
 "metadata": {
  "kernelspec": {
   "display_name": "Python 3.9.7 ('base')",
   "language": "python",
   "name": "python3"
  },
  "language_info": {
   "codemirror_mode": {
    "name": "ipython",
    "version": 3
   },
   "file_extension": ".py",
   "mimetype": "text/x-python",
   "name": "python",
   "nbconvert_exporter": "python",
   "pygments_lexer": "ipython3",
   "version": "3.9.7"
  },
  "orig_nbformat": 4,
  "vscode": {
   "interpreter": {
    "hash": "252c28c73334dc448966c55846d6aa799713735e1772b1237f15441ac08135d3"
   }
  }
 },
 "nbformat": 4,
 "nbformat_minor": 2
}
