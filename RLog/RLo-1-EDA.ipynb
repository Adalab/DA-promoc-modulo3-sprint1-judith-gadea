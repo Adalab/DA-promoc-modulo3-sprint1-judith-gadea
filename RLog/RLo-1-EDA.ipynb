{
 "cells": [
  {
   "attachments": {},
   "cell_type": "markdown",
   "metadata": {},
   "source": [
    "# Pair Programming EDA - Regresión Logística"
   ]
  },
  {
   "attachments": {},
   "cell_type": "markdown",
   "metadata": {},
   "source": [
    "\n",
    "Para los ejercicios de pair programming de Regresión logística temdremos que buscar un dataset (al igual que hicismos en regresión lineal) que usaremosmos a lo largo de los siguientes ejercicios.\n",
    "\n",
    "**Se ruega a la hora de realizar la entrega que incluyais el conjunto de datos que hayais decidido emplear para estos ejercicios.**"
   ]
  },
  {
   "cell_type": "code",
   "execution_count": 89,
   "metadata": {},
   "outputs": [],
   "source": [
    "# Tratamiento de datos\n",
    "# -----------------------------------------------------------------------\n",
    "import numpy as np\n",
    "import pandas as pd\n",
    "import sidetable as stb\n",
    "# Gráficos\n",
    "# ------------------------------------------------------------------------------\n",
    "import matplotlib.pyplot as plt\n",
    "import seaborn as sns\n",
    "#  Gestión de warnings\n",
    "# ------------------------------------------------------------------------------\n",
    "import warnings\n",
    "warnings.filterwarnings(\"ignore\")"
   ]
  },
  {
   "cell_type": "code",
   "execution_count": 15,
   "metadata": {},
   "outputs": [
    {
     "data": {
      "text/html": [
       "<div>\n",
       "<style scoped>\n",
       "    .dataframe tbody tr th:only-of-type {\n",
       "        vertical-align: middle;\n",
       "    }\n",
       "\n",
       "    .dataframe tbody tr th {\n",
       "        vertical-align: top;\n",
       "    }\n",
       "\n",
       "    .dataframe thead th {\n",
       "        text-align: right;\n",
       "    }\n",
       "</style>\n",
       "<table border=\"1\" class=\"dataframe\">\n",
       "  <thead>\n",
       "    <tr style=\"text-align: right;\">\n",
       "      <th></th>\n",
       "      <th>User ID</th>\n",
       "      <th>Gender</th>\n",
       "      <th>Age</th>\n",
       "      <th>EstimatedSalary</th>\n",
       "      <th>Purchased</th>\n",
       "    </tr>\n",
       "  </thead>\n",
       "  <tbody>\n",
       "    <tr>\n",
       "      <th>0</th>\n",
       "      <td>15624510</td>\n",
       "      <td>Male</td>\n",
       "      <td>19</td>\n",
       "      <td>19000</td>\n",
       "      <td>0</td>\n",
       "    </tr>\n",
       "    <tr>\n",
       "      <th>1</th>\n",
       "      <td>15810944</td>\n",
       "      <td>Male</td>\n",
       "      <td>35</td>\n",
       "      <td>20000</td>\n",
       "      <td>0</td>\n",
       "    </tr>\n",
       "    <tr>\n",
       "      <th>2</th>\n",
       "      <td>15668575</td>\n",
       "      <td>Female</td>\n",
       "      <td>26</td>\n",
       "      <td>43000</td>\n",
       "      <td>0</td>\n",
       "    </tr>\n",
       "    <tr>\n",
       "      <th>3</th>\n",
       "      <td>15603246</td>\n",
       "      <td>Female</td>\n",
       "      <td>27</td>\n",
       "      <td>57000</td>\n",
       "      <td>0</td>\n",
       "    </tr>\n",
       "    <tr>\n",
       "      <th>4</th>\n",
       "      <td>15804002</td>\n",
       "      <td>Male</td>\n",
       "      <td>19</td>\n",
       "      <td>76000</td>\n",
       "      <td>0</td>\n",
       "    </tr>\n",
       "  </tbody>\n",
       "</table>\n",
       "</div>"
      ],
      "text/plain": [
       "    User ID  Gender  Age  EstimatedSalary  Purchased\n",
       "0  15624510    Male   19            19000          0\n",
       "1  15810944    Male   35            20000          0\n",
       "2  15668575  Female   26            43000          0\n",
       "3  15603246  Female   27            57000          0\n",
       "4  15804002    Male   19            76000          0"
      ]
     },
     "execution_count": 15,
     "metadata": {},
     "output_type": "execute_result"
    }
   ],
   "source": [
    "#abrimos el CSV:\n",
    "\n",
    "df = pd.read_csv('datos/Social_Network_Ads.csv')\n",
    "df.head()"
   ]
  },
  {
   "attachments": {},
   "cell_type": "markdown",
   "metadata": {},
   "source": [
    "- Explicar los datos y las variables disponibles en el conjunto de datos seleccionado.\n"
   ]
  },
  {
   "attachments": {},
   "cell_type": "markdown",
   "metadata": {},
   "source": [
    "### Características de las columnas del DF:"
   ]
  },
  {
   "attachments": {},
   "cell_type": "markdown",
   "metadata": {},
   "source": [
    "This data set contains the following features. [Fuente del dataset](https://www.kaggle.com/datasets/jahnveenarang/cvdcvd-vd):\n",
    "\n",
    "- 'User ID': unique identification for consumer  \n",
    "- 'Age': cutomer age in years  \n",
    "- 'Estimated Salary': Avg. Income of consumer  \n",
    "- 'Gender': Whether consumer was male or female  \n",
    "- 'Purchased': 0 or 1 indicated clicking on Ad  "
   ]
  },
  {
   "attachments": {},
   "cell_type": "markdown",
   "metadata": {},
   "source": [
    "##### - Buscad un conjunto de datos a analizar. Se recomienda que el conjunto de datos a analizar tenga variables numéricas y categóricas, primando que haya más de una variable de tipo numérico.\n"
   ]
  },
  {
   "attachments": {},
   "cell_type": "markdown",
   "metadata": {},
   "source": [
    "##### - Realizar un EDA sencillo poniendo en práctica los conocimientos adquiridos hasta el momento. Interpretad los resultados.\n"
   ]
  },
  {
   "cell_type": "code",
   "execution_count": 16,
   "metadata": {},
   "outputs": [
    {
     "name": "stdout",
     "output_type": "stream",
     "text": [
      "<class 'pandas.core.frame.DataFrame'>\n",
      "RangeIndex: 400 entries, 0 to 399\n",
      "Data columns (total 5 columns):\n",
      " #   Column           Non-Null Count  Dtype \n",
      "---  ------           --------------  ----- \n",
      " 0   User ID          400 non-null    int64 \n",
      " 1   Gender           400 non-null    object\n",
      " 2   Age              400 non-null    int64 \n",
      " 3   EstimatedSalary  400 non-null    int64 \n",
      " 4   Purchased        400 non-null    int64 \n",
      "dtypes: int64(4), object(1)\n",
      "memory usage: 15.8+ KB\n"
     ]
    }
   ],
   "source": [
    "#extraemos información del df:\n",
    "df.info()"
   ]
  },
  {
   "attachments": {},
   "cell_type": "markdown",
   "metadata": {},
   "source": [
    "Observamos que el DF cuenta con variables numéricas y una categórica (género).   \n",
    "\n",
    "**Utilizaremos como VD/VR la variable 'Purchased'.**  \n",
    "\n",
    "Es decir, si una persona ha pulsado el anuncio o no."
   ]
  },
  {
   "cell_type": "code",
   "execution_count": 122,
   "metadata": {},
   "outputs": [],
   "source": [
    "\n",
    "#renombramos las columnas para facilitar el manejo de la información:\n",
    "new_cols= {col: col.replace(\" \", \"_\").lower() for col in df.columns}\n",
    "#una vez almacenados, aplicamos .rename()\n",
    "df.rename(columns = new_cols, inplace = True)\n",
    "\n",
    "#comprobamos:\n",
    "\n",
    "df.columns\n",
    "\n",
    "#guardamos en un csv el nombre modificado:\n",
    "\n",
    "df.to_csv('datos/Social_Network_Ads_1.csv', index=False)"
   ]
  },
  {
   "cell_type": "code",
   "execution_count": 18,
   "metadata": {},
   "outputs": [
    {
     "name": "stdout",
     "output_type": "stream",
     "text": [
      "Tenemos 400 casos y 5 columnas.\n",
      "Tenemos un total de 0 casos duplicados.\n"
     ]
    }
   ],
   "source": [
    "#tamaño de la muestra:\n",
    "\n",
    "print(f'Tenemos {df.shape[0]} casos y {df.shape[1]} columnas.')\n",
    "\n",
    "#vemos que no hay nulos en la tercera columna, así que exploraremos los duplicados:\n",
    "\n",
    "print(f'Tenemos un total de {df.duplicated().sum()} casos duplicados.')\n",
    "\n"
   ]
  },
  {
   "cell_type": "code",
   "execution_count": 19,
   "metadata": {},
   "outputs": [
    {
     "name": "stdout",
     "output_type": "stream",
     "text": [
      "Los valores únicos de GENDER son:\n",
      "['Male' 'Female']\n",
      "Los valores únicos de AGE son:\n",
      "[19 35 26 27 32 25 20 18 29 47 45 46 48 49 31 21 28 33 30 23 24 22 59 34\n",
      " 39 38 37 42 40 36 41 58 55 52 60 56 53 50 51 57 44 43 54]\n",
      "Los valores únicos de ESTIMATEDSALARY son:\n",
      "[ 19000  20000  43000  57000  76000  58000  84000 150000  33000  65000\n",
      "  80000  52000  86000  18000  82000  25000  26000  28000  29000  22000\n",
      "  49000  41000  23000  30000  74000 137000  16000  44000  90000  27000\n",
      "  72000  31000  17000  51000 108000  15000  79000  54000 135000  89000\n",
      "  32000  83000  55000  48000 117000  87000  66000 120000  63000  68000\n",
      " 113000 112000  42000  88000  62000 118000  85000  81000  50000 116000\n",
      " 123000  73000  37000  59000 149000  21000  35000  71000  61000  75000\n",
      "  53000 107000  96000  45000  47000 100000  38000  69000 148000 115000\n",
      "  34000  60000  70000  36000  39000 134000 101000 130000 114000 142000\n",
      "  78000 143000  91000 144000 102000 126000 133000 147000 104000 146000\n",
      " 122000  97000  95000 131000  77000 125000 106000 141000  93000 138000\n",
      " 119000 105000  99000 129000  46000  64000 139000]\n",
      "Los valores únicos de PURCHASED son:\n",
      "[0 1]\n"
     ]
    }
   ],
   "source": [
    "#valores únicos. vamos a omitir la columna de User ID dado que cada valor es único y no nos dejaría ver los valores del resto de variables.\n",
    "df_col_no_id = ['gender', 'age', 'estimatedsalary', 'purchased']\n",
    "\n",
    "for x in df_col_no_id:\n",
    "    print(f'Los valores únicos de {x.upper()} son:')\n",
    "    print(df[x].unique())"
   ]
  },
  {
   "cell_type": "code",
   "execution_count": 127,
   "metadata": {},
   "outputs": [
    {
     "name": "stdout",
     "output_type": "stream",
     "text": [
      "Las frecuencias de GENDER son:\n",
      "Female    204\n",
      "Male      196\n",
      "Name: gender, dtype: int64\n",
      "Las frecuencias de AGE son:\n",
      "35    32\n",
      "37    20\n",
      "26    16\n",
      "41    16\n",
      "42    16\n",
      "39    15\n",
      "40    15\n",
      "48    14\n",
      "47    14\n",
      "27    13\n",
      "38    13\n",
      "28    12\n",
      "36    12\n",
      "46    12\n",
      "31    11\n",
      "30    11\n",
      "49    10\n",
      "29    10\n",
      "33     9\n",
      "32     9\n",
      "24     9\n",
      "59     7\n",
      "19     7\n",
      "45     7\n",
      "20     7\n",
      "60     7\n",
      "34     6\n",
      "23     6\n",
      "52     6\n",
      "25     6\n",
      "58     6\n",
      "53     5\n",
      "57     5\n",
      "22     5\n",
      "18     5\n",
      "21     4\n",
      "50     4\n",
      "54     4\n",
      "55     3\n",
      "56     3\n",
      "51     3\n",
      "43     3\n",
      "44     2\n",
      "Name: age, dtype: int64\n",
      "Las frecuencias de ESTIMATEDSALARY son:\n",
      "72000     12\n",
      "80000     11\n",
      "79000     10\n",
      "75000      9\n",
      "71000      9\n",
      "          ..\n",
      "123000     1\n",
      "37000      1\n",
      "115000     1\n",
      "148000     1\n",
      "139000     1\n",
      "Name: estimatedsalary, Length: 117, dtype: int64\n",
      "Las frecuencias de PURCHASED son:\n",
      "0    257\n",
      "1    143\n",
      "Name: purchased, dtype: int64\n"
     ]
    }
   ],
   "source": [
    "#frecuencias de las variables:\n",
    "\n",
    "for x in df_col_no_id:\n",
    "    print(f'Las frecuencias de {x.upper()} son:\\n{df[x].value_counts()}')"
   ]
  },
  {
   "attachments": {},
   "cell_type": "markdown",
   "metadata": {},
   "source": [
    "Frecuencias en % de la variable dependiente o respuesta ('Purchased'):"
   ]
  },
  {
   "cell_type": "code",
   "execution_count": 120,
   "metadata": {},
   "outputs": [
    {
     "data": {
      "text/plain": [
       "0    0.64\n",
       "1    0.36\n",
       "Name: purchased, dtype: float64"
      ]
     },
     "execution_count": 120,
     "metadata": {},
     "output_type": "execute_result"
    }
   ],
   "source": [
    "round(df['purchased'].value_counts(lambda x: x.sum()/x.shape[0]),2)"
   ]
  },
  {
   "attachments": {},
   "cell_type": "markdown",
   "metadata": {},
   "source": [
    "Vemos que la posición de la muestra en nuestra VD/VR tiende claramente a no haber pulsado el botón."
   ]
  },
  {
   "attachments": {},
   "cell_type": "markdown",
   "metadata": {},
   "source": [
    "#### Estadísticos principales de las variables:"
   ]
  },
  {
   "cell_type": "code",
   "execution_count": 109,
   "metadata": {},
   "outputs": [
    {
     "data": {
      "text/html": [
       "<div>\n",
       "<style scoped>\n",
       "    .dataframe tbody tr th:only-of-type {\n",
       "        vertical-align: middle;\n",
       "    }\n",
       "\n",
       "    .dataframe tbody tr th {\n",
       "        vertical-align: top;\n",
       "    }\n",
       "\n",
       "    .dataframe thead th {\n",
       "        text-align: right;\n",
       "    }\n",
       "</style>\n",
       "<table border=\"1\" class=\"dataframe\">\n",
       "  <thead>\n",
       "    <tr style=\"text-align: right;\">\n",
       "      <th></th>\n",
       "      <th>count</th>\n",
       "      <th>mean</th>\n",
       "      <th>std</th>\n",
       "      <th>min</th>\n",
       "      <th>25%</th>\n",
       "      <th>50%</th>\n",
       "      <th>75%</th>\n",
       "      <th>max</th>\n",
       "    </tr>\n",
       "  </thead>\n",
       "  <tbody>\n",
       "    <tr>\n",
       "      <th>user_id</th>\n",
       "      <td>400.0</td>\n",
       "      <td>15691539.76</td>\n",
       "      <td>71658.32</td>\n",
       "      <td>15566689.0</td>\n",
       "      <td>15626763.75</td>\n",
       "      <td>15694341.5</td>\n",
       "      <td>15750363.0</td>\n",
       "      <td>15815236.0</td>\n",
       "    </tr>\n",
       "    <tr>\n",
       "      <th>age</th>\n",
       "      <td>400.0</td>\n",
       "      <td>37.66</td>\n",
       "      <td>10.48</td>\n",
       "      <td>18.0</td>\n",
       "      <td>29.75</td>\n",
       "      <td>37.0</td>\n",
       "      <td>46.0</td>\n",
       "      <td>60.0</td>\n",
       "    </tr>\n",
       "    <tr>\n",
       "      <th>estimatedsalary</th>\n",
       "      <td>400.0</td>\n",
       "      <td>69742.50</td>\n",
       "      <td>34096.96</td>\n",
       "      <td>15000.0</td>\n",
       "      <td>43000.00</td>\n",
       "      <td>70000.0</td>\n",
       "      <td>88000.0</td>\n",
       "      <td>150000.0</td>\n",
       "    </tr>\n",
       "    <tr>\n",
       "      <th>purchased</th>\n",
       "      <td>400.0</td>\n",
       "      <td>0.36</td>\n",
       "      <td>0.48</td>\n",
       "      <td>0.0</td>\n",
       "      <td>0.00</td>\n",
       "      <td>0.0</td>\n",
       "      <td>1.0</td>\n",
       "      <td>1.0</td>\n",
       "    </tr>\n",
       "  </tbody>\n",
       "</table>\n",
       "</div>"
      ],
      "text/plain": [
       "                 count         mean       std         min          25%  \\\n",
       "user_id          400.0  15691539.76  71658.32  15566689.0  15626763.75   \n",
       "age              400.0        37.66     10.48        18.0        29.75   \n",
       "estimatedsalary  400.0     69742.50  34096.96     15000.0     43000.00   \n",
       "purchased        400.0         0.36      0.48         0.0         0.00   \n",
       "\n",
       "                        50%         75%         max  \n",
       "user_id          15694341.5  15750363.0  15815236.0  \n",
       "age                    37.0        46.0        60.0  \n",
       "estimatedsalary     70000.0     88000.0    150000.0  \n",
       "purchased               0.0         1.0         1.0  "
      ]
     },
     "execution_count": 109,
     "metadata": {},
     "output_type": "execute_result"
    }
   ],
   "source": [
    "#de las variables numéricas\n",
    "round(df.describe().T,2)"
   ]
  },
  {
   "cell_type": "code",
   "execution_count": 111,
   "metadata": {},
   "outputs": [
    {
     "data": {
      "text/html": [
       "<div>\n",
       "<style scoped>\n",
       "    .dataframe tbody tr th:only-of-type {\n",
       "        vertical-align: middle;\n",
       "    }\n",
       "\n",
       "    .dataframe tbody tr th {\n",
       "        vertical-align: top;\n",
       "    }\n",
       "\n",
       "    .dataframe thead th {\n",
       "        text-align: right;\n",
       "    }\n",
       "</style>\n",
       "<table border=\"1\" class=\"dataframe\">\n",
       "  <thead>\n",
       "    <tr style=\"text-align: right;\">\n",
       "      <th></th>\n",
       "      <th>count</th>\n",
       "      <th>unique</th>\n",
       "      <th>top</th>\n",
       "      <th>freq</th>\n",
       "    </tr>\n",
       "  </thead>\n",
       "  <tbody>\n",
       "    <tr>\n",
       "      <th>gender</th>\n",
       "      <td>400</td>\n",
       "      <td>2</td>\n",
       "      <td>Female</td>\n",
       "      <td>204</td>\n",
       "    </tr>\n",
       "  </tbody>\n",
       "</table>\n",
       "</div>"
      ],
      "text/plain": [
       "       count unique     top freq\n",
       "gender   400      2  Female  204"
      ]
     },
     "execution_count": 111,
     "metadata": {},
     "output_type": "execute_result"
    }
   ],
   "source": [
    "#de la variable categórica, gender\n",
    "df.describe(include='object').T"
   ]
  },
  {
   "cell_type": "code",
   "execution_count": 112,
   "metadata": {},
   "outputs": [
    {
     "name": "stdout",
     "output_type": "stream",
     "text": [
      "La moda de Gender es:\n",
      "0    Female\n",
      "dtype: object\n",
      "La moda de Age es:\n",
      "0    35\n",
      "dtype: int64\n",
      "La moda de Estimatedsalary es:\n",
      "0    72000\n",
      "dtype: int64\n",
      "La moda de Purchased es:\n",
      "0    0\n",
      "dtype: int64\n"
     ]
    }
   ],
   "source": [
    "#calculamos la moda para poder interpretar los datos correctamente:\n",
    "for col in df_col_no_id:\n",
    "    print(f'La moda de {col.capitalize()} es:')\n",
    "    print(df[col].mode())\n",
    "    print('-----------------------------')"
   ]
  },
  {
   "attachments": {},
   "cell_type": "markdown",
   "metadata": {},
   "source": [
    "#### Interpretación de los datos:\n",
    "\n",
    "No podemos interpretar user_id ya que son valores únicos.\n",
    "\n",
    "- *estimatedsalary o salario estimado*: vemos que la media (69742.50) está muy separada del valor mínimo (15000). Además, la desviación típica es casi la mitad del valor de la media (34096.96), lo que nos indica una gran dispersión en los salarios. La mediana o percentil 50 está ligeramente por encima de la media (70000). \n",
    "\n",
    "Por lo tanto, hay muchas puntuaciones que están por encima de la media.\n",
    "\n",
    "- *age*: la media (37.66) está muy cercana a la mediana (37), y también de la moda (35), lo que nos indica una distribución bastante cercana a la simetría. la desviación típica es de 10.48 años, lo que nos indica que la edad también presenta puntuaciones dispersas.\n",
    "\n",
    "- *gender*: Existe paridad de género en la muestra, donde predominan muy ligeramente las mujeres (204).\n",
    "\n",
    "- *purchased*: Nuestra variable dependiente o respuesta. Al ser una variable dicotómica, solamente podemos interpretar la moda. La moda es 0 = no ha dado click al anuncio. Por lo tanto, podemos decir que en la muestra predominan lxs clientes que no han dado click en el anuncio.\n",
    "\n",
    "**Conclusión:**\n",
    "Contamos con una muestra muy diversa en edad y salarios, con una distribución igualitaria de hombres y mujeres que tienden a no dar click en el anuncio.\n"
   ]
  },
  {
   "cell_type": "markdown",
   "metadata": {},
   "source": []
  },
  {
   "attachments": {},
   "cell_type": "markdown",
   "metadata": {},
   "source": [
    "### Exploración de los outliers:"
   ]
  },
  {
   "cell_type": "code",
   "execution_count": 63,
   "metadata": {},
   "outputs": [
    {
     "data": {
      "text/html": [
       "<div>\n",
       "<style scoped>\n",
       "    .dataframe tbody tr th:only-of-type {\n",
       "        vertical-align: middle;\n",
       "    }\n",
       "\n",
       "    .dataframe tbody tr th {\n",
       "        vertical-align: top;\n",
       "    }\n",
       "\n",
       "    .dataframe thead th {\n",
       "        text-align: right;\n",
       "    }\n",
       "</style>\n",
       "<table border=\"1\" class=\"dataframe\">\n",
       "  <thead>\n",
       "    <tr style=\"text-align: right;\">\n",
       "      <th></th>\n",
       "      <th>age</th>\n",
       "      <th>estimatedsalary</th>\n",
       "      <th>purchased</th>\n",
       "    </tr>\n",
       "  </thead>\n",
       "  <tbody>\n",
       "    <tr>\n",
       "      <th>0</th>\n",
       "      <td>19</td>\n",
       "      <td>19000</td>\n",
       "      <td>0</td>\n",
       "    </tr>\n",
       "    <tr>\n",
       "      <th>1</th>\n",
       "      <td>35</td>\n",
       "      <td>20000</td>\n",
       "      <td>0</td>\n",
       "    </tr>\n",
       "    <tr>\n",
       "      <th>2</th>\n",
       "      <td>26</td>\n",
       "      <td>43000</td>\n",
       "      <td>0</td>\n",
       "    </tr>\n",
       "    <tr>\n",
       "      <th>3</th>\n",
       "      <td>27</td>\n",
       "      <td>57000</td>\n",
       "      <td>0</td>\n",
       "    </tr>\n",
       "    <tr>\n",
       "      <th>4</th>\n",
       "      <td>19</td>\n",
       "      <td>76000</td>\n",
       "      <td>0</td>\n",
       "    </tr>\n",
       "  </tbody>\n",
       "</table>\n",
       "</div>"
      ],
      "text/plain": [
       "   age  estimatedsalary  purchased\n",
       "0   19            19000          0\n",
       "1   35            20000          0\n",
       "2   26            43000          0\n",
       "3   27            57000          0\n",
       "4   19            76000          0"
      ]
     },
     "execution_count": 63,
     "metadata": {},
     "output_type": "execute_result"
    }
   ],
   "source": [
    "#creamos un df con solo las variables numéricas para valorar los outliers\n",
    "numericas = df.select_dtypes(include=np.number)\n",
    "\n",
    "#eliminamos la columna del id\n",
    "numericas.drop('user_id', axis=1, inplace=True)\n",
    "\n",
    "#comprobamos el cambio\n",
    "numericas.head()"
   ]
  },
  {
   "attachments": {},
   "cell_type": "markdown",
   "metadata": {},
   "source": [
    "#### Representación gráfica de los outliers:"
   ]
  },
  {
   "cell_type": "code",
   "execution_count": 84,
   "metadata": {},
   "outputs": [
    {
     "data": {
      "image/png": "[encoded data removed]",
      "text/plain": [
       "<Figure size 2160x720 with 2 Axes>"
      ]
     },
     "metadata": {
      "needs_background": "light"
     },
     "output_type": "display_data"
    }
   ],
   "source": [
    "fig, axes = plt.subplots(1, 2, figsize=(30,10))\n",
    "\n",
    "axes = axes.flat\n",
    "\n",
    "#creamos una lista sin 'purchased' ya que no nos interesa incluir purchased, ya que es dicotómica\n",
    "lista_numericas = ['estimatedsalary', 'age']\n",
    "\n",
    "for index, col in enumerate(lista_numericas):\n",
    "    sns.boxplot(x = numericas[col], data=numericas, ax=axes[index], color='pink');\n",
    "    axes[index].set_title(col, fontsize=25)\n",
    "\n",
    "fig.tight_layout();"
   ]
  },
  {
   "attachments": {},
   "cell_type": "markdown",
   "metadata": {},
   "source": [
    "**Interpretación**:  \n",
    "\n",
    "No tenemos outliers. \n",
    "\n",
    "- *salario estimado (dcha.)*: Vemos que los bigotes en esta columna son amplios, lo que nos indica que hay muchos valores que se quedan fuera del rango intercuartílico. Además, la mediana está varada hacia la derecha, corroborando que existen muchos casos con salarios estimados muy altos.\n",
    "\n",
    "- *edad (izqda.)*: La mediana está varada, en este caso, hacia la izquierda, estableciéndose en torno a los 37. Como hemos visto, la media y la mediana son ambas 37, y la moda 35. por lo tanto, la distribución de las edades en la muestra es muy cercana a la simetría."
   ]
  },
  {
   "cell_type": "markdown",
   "metadata": {},
   "source": []
  },
  {
   "cell_type": "markdown",
   "metadata": {},
   "source": []
  }
 ],
 "metadata": {
  "kernelspec": {
   "display_name": "base",
   "language": "python",
   "name": "python3"
  },
  "language_info": {
   "codemirror_mode": {
    "name": "ipython",
    "version": 3
   },
   "file_extension": ".py",
   "mimetype": "text/x-python",
   "name": "python",
   "nbconvert_exporter": "python",
   "pygments_lexer": "ipython3",
   "version": "3.9.7"
  },
  "orig_nbformat": 4,
  "vscode": {
   "interpreter": {
    "hash": "40d3a090f54c6569ab1632332b64b2c03c39dcf918b08424e98f38b5ae0af88f"
   }
  }
 },
 "nbformat": 4,
 "nbformat_minor": 2
}
