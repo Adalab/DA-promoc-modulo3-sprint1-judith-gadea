{
 "cells": [
  {
   "attachments": {},
   "cell_type": "markdown",
   "metadata": {},
   "source": [
    "# Pair Progamming RL - Intro"
   ]
  },
  {
   "cell_type": "code",
   "execution_count": 103,
   "metadata": {},
   "outputs": [],
   "source": [
    "# Tratamiento de datos\n",
    "# -----------------------------------------------------------------------\n",
    "import numpy as np\n",
    "import pandas as pd\n",
    "# Gráficos\n",
    "# ------------------------------------------------------------------------------\n",
    "import matplotlib.pyplot as plt\n",
    "import seaborn as sns\n",
    "#  Modelado y evaluación\n",
    "# ------------------------------------------------------------------------------\n",
    "from sklearn.model_selection import train_test_split\n",
    "from sklearn.linear_model import LinearRegression\n",
    "#  Crossvalidation\n",
    "# ------------------------------------------------------------------------------\n",
    "from sklearn.model_selection import cross_val_score\n",
    "from sklearn.model_selection import cross_validate\n",
    "from sklearn import metrics"
   ]
  },
  {
   "attachments": {},
   "cell_type": "markdown",
   "metadata": {},
   "source": [
    "En el pair programming de hoy debéis usar el csv que guardastéis cuando hicistéis el pairprgramming de codificicación (este csv debería tener las variables estadandarizas).\n",
    "El objetivo de este pairprogramming es que hagáis vuestro primer modelo de machine learning. Para eso recordad que:\n"
   ]
  },
  {
   "cell_type": "code",
   "execution_count": 104,
   "metadata": {},
   "outputs": [
    {
     "data": {
      "text/html": [
       "<div>\n",
       "<style scoped>\n",
       "    .dataframe tbody tr th:only-of-type {\n",
       "        vertical-align: middle;\n",
       "    }\n",
       "\n",
       "    .dataframe tbody tr th {\n",
       "        vertical-align: top;\n",
       "    }\n",
       "\n",
       "    .dataframe thead th {\n",
       "        text-align: right;\n",
       "    }\n",
       "</style>\n",
       "<table border=\"1\" class=\"dataframe\">\n",
       "  <thead>\n",
       "    <tr style=\"text-align: right;\">\n",
       "      <th></th>\n",
       "      <th>est_carat</th>\n",
       "      <th>est_depth</th>\n",
       "      <th>est_table</th>\n",
       "      <th>est_price</th>\n",
       "      <th>est_lenght_mm</th>\n",
       "      <th>est_width_mm</th>\n",
       "      <th>est_depth_mm</th>\n",
       "      <th>cut_encoded</th>\n",
       "      <th>clarity_encoded</th>\n",
       "      <th>color_encoded</th>\n",
       "    </tr>\n",
       "  </thead>\n",
       "  <tbody>\n",
       "    <tr>\n",
       "      <th>1</th>\n",
       "      <td>-1.268160</td>\n",
       "      <td>-1.597233</td>\n",
       "      <td>1.661056</td>\n",
       "      <td>-0.986397</td>\n",
       "      <td>-1.646799</td>\n",
       "      <td>-1.705394</td>\n",
       "      <td>-1.780396</td>\n",
       "      <td>5</td>\n",
       "      <td>3</td>\n",
       "      <td>2</td>\n",
       "    </tr>\n",
       "    <tr>\n",
       "      <th>2</th>\n",
       "      <td>-1.224362</td>\n",
       "      <td>0.042616</td>\n",
       "      <td>3.519383</td>\n",
       "      <td>-0.986075</td>\n",
       "      <td>-1.503737</td>\n",
       "      <td>-1.498268</td>\n",
       "      <td>-1.780396</td>\n",
       "      <td>4</td>\n",
       "      <td>1</td>\n",
       "      <td>2</td>\n",
       "    </tr>\n",
       "    <tr>\n",
       "      <th>3</th>\n",
       "      <td>-1.092965</td>\n",
       "      <td>0.534571</td>\n",
       "      <td>0.267310</td>\n",
       "      <td>-0.983820</td>\n",
       "      <td>-1.369617</td>\n",
       "      <td>-1.354180</td>\n",
       "      <td>-1.316852</td>\n",
       "      <td>2</td>\n",
       "      <td>4</td>\n",
       "      <td>2</td>\n",
       "    </tr>\n",
       "    <tr>\n",
       "      <th>4</th>\n",
       "      <td>-1.049167</td>\n",
       "      <td>1.272504</td>\n",
       "      <td>0.267310</td>\n",
       "      <td>-0.983498</td>\n",
       "      <td>-1.244438</td>\n",
       "      <td>-1.246114</td>\n",
       "      <td>-1.143024</td>\n",
       "      <td>4</td>\n",
       "      <td>2</td>\n",
       "      <td>6</td>\n",
       "    </tr>\n",
       "    <tr>\n",
       "      <th>5</th>\n",
       "      <td>-1.202462</td>\n",
       "      <td>0.862541</td>\n",
       "      <td>-0.197272</td>\n",
       "      <td>-0.983175</td>\n",
       "      <td>-1.602092</td>\n",
       "      <td>-1.597328</td>\n",
       "      <td>-1.534138</td>\n",
       "      <td>2</td>\n",
       "      <td>3</td>\n",
       "      <td>7</td>\n",
       "    </tr>\n",
       "  </tbody>\n",
       "</table>\n",
       "</div>"
      ],
      "text/plain": [
       "   est_carat  est_depth  est_table  est_price  est_lenght_mm  est_width_mm  \\\n",
       "1  -1.268160  -1.597233   1.661056  -0.986397      -1.646799     -1.705394   \n",
       "2  -1.224362   0.042616   3.519383  -0.986075      -1.503737     -1.498268   \n",
       "3  -1.092965   0.534571   0.267310  -0.983820      -1.369617     -1.354180   \n",
       "4  -1.049167   1.272504   0.267310  -0.983498      -1.244438     -1.246114   \n",
       "5  -1.202462   0.862541  -0.197272  -0.983175      -1.602092     -1.597328   \n",
       "\n",
       "   est_depth_mm  cut_encoded  clarity_encoded  color_encoded  \n",
       "1     -1.780396            5                3              2  \n",
       "2     -1.780396            4                1              2  \n",
       "3     -1.316852            2                4              2  \n",
       "4     -1.143024            4                2              6  \n",
       "5     -1.534138            2                3              7  "
      ]
     },
     "execution_count": 104,
     "metadata": {},
     "output_type": "execute_result"
    }
   ],
   "source": [
    "df = pd.read_csv('datos/diamonds_def.csv', index_col=0)\n",
    "df.head()"
   ]
  },
  {
   "attachments": {},
   "cell_type": "markdown",
   "metadata": {},
   "source": [
    "### 1. Deberéis separar la X y la y."
   ]
  },
  {
   "cell_type": "code",
   "execution_count": 105,
   "metadata": {},
   "outputs": [],
   "source": [
    "X = df.drop(\"est_carat\", axis = 1)\n",
    "y = df[\"est_carat\"]"
   ]
  },
  {
   "cell_type": "code",
   "execution_count": 106,
   "metadata": {},
   "outputs": [
    {
     "data": {
      "text/html": [
       "<div>\n",
       "<style scoped>\n",
       "    .dataframe tbody tr th:only-of-type {\n",
       "        vertical-align: middle;\n",
       "    }\n",
       "\n",
       "    .dataframe tbody tr th {\n",
       "        vertical-align: top;\n",
       "    }\n",
       "\n",
       "    .dataframe thead th {\n",
       "        text-align: right;\n",
       "    }\n",
       "</style>\n",
       "<table border=\"1\" class=\"dataframe\">\n",
       "  <thead>\n",
       "    <tr style=\"text-align: right;\">\n",
       "      <th></th>\n",
       "      <th>est_depth</th>\n",
       "      <th>est_table</th>\n",
       "      <th>est_price</th>\n",
       "      <th>est_lenght_mm</th>\n",
       "      <th>est_width_mm</th>\n",
       "      <th>est_depth_mm</th>\n",
       "      <th>cut_encoded</th>\n",
       "      <th>clarity_encoded</th>\n",
       "      <th>color_encoded</th>\n",
       "    </tr>\n",
       "  </thead>\n",
       "  <tbody>\n",
       "    <tr>\n",
       "      <th>1</th>\n",
       "      <td>-1.597233</td>\n",
       "      <td>1.661056</td>\n",
       "      <td>-0.986397</td>\n",
       "      <td>-1.646799</td>\n",
       "      <td>-1.705394</td>\n",
       "      <td>-1.780396</td>\n",
       "      <td>5</td>\n",
       "      <td>3</td>\n",
       "      <td>2</td>\n",
       "    </tr>\n",
       "    <tr>\n",
       "      <th>2</th>\n",
       "      <td>0.042616</td>\n",
       "      <td>3.519383</td>\n",
       "      <td>-0.986075</td>\n",
       "      <td>-1.503737</td>\n",
       "      <td>-1.498268</td>\n",
       "      <td>-1.780396</td>\n",
       "      <td>4</td>\n",
       "      <td>1</td>\n",
       "      <td>2</td>\n",
       "    </tr>\n",
       "    <tr>\n",
       "      <th>3</th>\n",
       "      <td>0.534571</td>\n",
       "      <td>0.267310</td>\n",
       "      <td>-0.983820</td>\n",
       "      <td>-1.369617</td>\n",
       "      <td>-1.354180</td>\n",
       "      <td>-1.316852</td>\n",
       "      <td>2</td>\n",
       "      <td>4</td>\n",
       "      <td>2</td>\n",
       "    </tr>\n",
       "    <tr>\n",
       "      <th>4</th>\n",
       "      <td>1.272504</td>\n",
       "      <td>0.267310</td>\n",
       "      <td>-0.983498</td>\n",
       "      <td>-1.244438</td>\n",
       "      <td>-1.246114</td>\n",
       "      <td>-1.143024</td>\n",
       "      <td>4</td>\n",
       "      <td>2</td>\n",
       "      <td>6</td>\n",
       "    </tr>\n",
       "    <tr>\n",
       "      <th>5</th>\n",
       "      <td>0.862541</td>\n",
       "      <td>-0.197272</td>\n",
       "      <td>-0.983175</td>\n",
       "      <td>-1.602092</td>\n",
       "      <td>-1.597328</td>\n",
       "      <td>-1.534138</td>\n",
       "      <td>2</td>\n",
       "      <td>3</td>\n",
       "      <td>7</td>\n",
       "    </tr>\n",
       "  </tbody>\n",
       "</table>\n",
       "</div>"
      ],
      "text/plain": [
       "   est_depth  est_table  est_price  est_lenght_mm  est_width_mm  est_depth_mm  \\\n",
       "1  -1.597233   1.661056  -0.986397      -1.646799     -1.705394     -1.780396   \n",
       "2   0.042616   3.519383  -0.986075      -1.503737     -1.498268     -1.780396   \n",
       "3   0.534571   0.267310  -0.983820      -1.369617     -1.354180     -1.316852   \n",
       "4   1.272504   0.267310  -0.983498      -1.244438     -1.246114     -1.143024   \n",
       "5   0.862541  -0.197272  -0.983175      -1.602092     -1.597328     -1.534138   \n",
       "\n",
       "   cut_encoded  clarity_encoded  color_encoded  \n",
       "1            5                3              2  \n",
       "2            4                1              2  \n",
       "3            2                4              2  \n",
       "4            4                2              6  \n",
       "5            2                3              7  "
      ]
     },
     "execution_count": 106,
     "metadata": {},
     "output_type": "execute_result"
    }
   ],
   "source": [
    "X.head()"
   ]
  },
  {
   "cell_type": "code",
   "execution_count": 107,
   "metadata": {},
   "outputs": [
    {
     "data": {
      "text/plain": [
       "1   -1.268160\n",
       "2   -1.224362\n",
       "3   -1.092965\n",
       "4   -1.049167\n",
       "5   -1.202462\n",
       "Name: est_carat, dtype: float64"
      ]
     },
     "execution_count": 107,
     "metadata": {},
     "output_type": "execute_result"
    }
   ],
   "source": [
    "y.head()"
   ]
  },
  {
   "attachments": {},
   "cell_type": "markdown",
   "metadata": {},
   "source": [
    "### 2. Deberéis crear el train y el test."
   ]
  },
  {
   "cell_type": "code",
   "execution_count": 108,
   "metadata": {},
   "outputs": [],
   "source": [
    "#creamos los datasets:\n",
    "x_train, x_test, y_train, y_test = train_test_split(X, y, test_size = 0.2, random_state = 42)"
   ]
  },
  {
   "cell_type": "code",
   "execution_count": 109,
   "metadata": {},
   "outputs": [
    {
     "data": {
      "text/plain": [
       "LinearRegression()"
      ]
     },
     "execution_count": 109,
     "metadata": {},
     "output_type": "execute_result"
    }
   ],
   "source": [
    "#creamos el método con la regresión lineal\n",
    "lr = LinearRegression()\n",
    "lr.fit(x_train, y_train)"
   ]
  },
  {
   "attachments": {},
   "cell_type": "markdown",
   "metadata": {},
   "source": [
    "### 3. Ajustad vuestro modelo."
   ]
  },
  {
   "cell_type": "code",
   "execution_count": 111,
   "metadata": {},
   "outputs": [],
   "source": [
    "y_predict_train = lr.predict(x_train) # hacemos las predicciones para el nº de\n",
    "y_predict_test = lr.predict(x_test)"
   ]
  },
  {
   "cell_type": "code",
   "execution_count": 112,
   "metadata": {},
   "outputs": [
    {
     "data": {
      "text/html": [
       "<div>\n",
       "<style scoped>\n",
       "    .dataframe tbody tr th:only-of-type {\n",
       "        vertical-align: middle;\n",
       "    }\n",
       "\n",
       "    .dataframe tbody tr th {\n",
       "        vertical-align: top;\n",
       "    }\n",
       "\n",
       "    .dataframe thead th {\n",
       "        text-align: right;\n",
       "    }\n",
       "</style>\n",
       "<table border=\"1\" class=\"dataframe\">\n",
       "  <thead>\n",
       "    <tr style=\"text-align: right;\">\n",
       "      <th></th>\n",
       "      <th>Real</th>\n",
       "      <th>Predicted</th>\n",
       "      <th>Set</th>\n",
       "    </tr>\n",
       "  </thead>\n",
       "  <tbody>\n",
       "    <tr>\n",
       "      <th>8427</th>\n",
       "      <td>0.045802</td>\n",
       "      <td>0.246916</td>\n",
       "      <td>Train</td>\n",
       "    </tr>\n",
       "    <tr>\n",
       "      <th>47965</th>\n",
       "      <td>-0.633079</td>\n",
       "      <td>-0.564571</td>\n",
       "      <td>Train</td>\n",
       "    </tr>\n",
       "    <tr>\n",
       "      <th>49194</th>\n",
       "      <td>-0.479783</td>\n",
       "      <td>-0.373481</td>\n",
       "      <td>Train</td>\n",
       "    </tr>\n",
       "    <tr>\n",
       "      <th>26207</th>\n",
       "      <td>1.951048</td>\n",
       "      <td>1.563968</td>\n",
       "      <td>Train</td>\n",
       "    </tr>\n",
       "    <tr>\n",
       "      <th>23010</th>\n",
       "      <td>1.994846</td>\n",
       "      <td>1.700329</td>\n",
       "      <td>Train</td>\n",
       "    </tr>\n",
       "  </tbody>\n",
       "</table>\n",
       "</div>"
      ],
      "text/plain": [
       "           Real  Predicted    Set\n",
       "8427   0.045802   0.246916  Train\n",
       "47965 -0.633079  -0.564571  Train\n",
       "49194 -0.479783  -0.373481  Train\n",
       "26207  1.951048   1.563968  Train\n",
       "23010  1.994846   1.700329  Train"
      ]
     },
     "execution_count": 112,
     "metadata": {},
     "output_type": "execute_result"
    }
   ],
   "source": [
    "df_train = pd.DataFrame({'Real': y_train, 'Predicted': y_predict_train, 'Set': ['Train']*len(y_train)})\n",
    "df_test  = pd.DataFrame({'Real': y_test,  'Predicted': y_predict_test,  'Set': ['Test']*len(y_test)})\n",
    "resultados = pd.concat([df_train,df_test], axis = 0)\n",
    "resultados.head()"
   ]
  },
  {
   "cell_type": "code",
   "execution_count": 113,
   "metadata": {},
   "outputs": [
    {
     "data": {
      "text/html": [
       "<div>\n",
       "<style scoped>\n",
       "    .dataframe tbody tr th:only-of-type {\n",
       "        vertical-align: middle;\n",
       "    }\n",
       "\n",
       "    .dataframe tbody tr th {\n",
       "        vertical-align: top;\n",
       "    }\n",
       "\n",
       "    .dataframe thead th {\n",
       "        text-align: right;\n",
       "    }\n",
       "</style>\n",
       "<table border=\"1\" class=\"dataframe\">\n",
       "  <thead>\n",
       "    <tr style=\"text-align: right;\">\n",
       "      <th></th>\n",
       "      <th>Real</th>\n",
       "      <th>Predicted</th>\n",
       "      <th>Set</th>\n",
       "      <th>residuos</th>\n",
       "    </tr>\n",
       "  </thead>\n",
       "  <tbody>\n",
       "    <tr>\n",
       "      <th>8427</th>\n",
       "      <td>0.045802</td>\n",
       "      <td>0.246916</td>\n",
       "      <td>Train</td>\n",
       "      <td>-0.201114</td>\n",
       "    </tr>\n",
       "    <tr>\n",
       "      <th>47965</th>\n",
       "      <td>-0.633079</td>\n",
       "      <td>-0.564571</td>\n",
       "      <td>Train</td>\n",
       "      <td>-0.068507</td>\n",
       "    </tr>\n",
       "    <tr>\n",
       "      <th>49194</th>\n",
       "      <td>-0.479783</td>\n",
       "      <td>-0.373481</td>\n",
       "      <td>Train</td>\n",
       "      <td>-0.106302</td>\n",
       "    </tr>\n",
       "    <tr>\n",
       "      <th>26207</th>\n",
       "      <td>1.951048</td>\n",
       "      <td>1.563968</td>\n",
       "      <td>Train</td>\n",
       "      <td>0.387080</td>\n",
       "    </tr>\n",
       "    <tr>\n",
       "      <th>23010</th>\n",
       "      <td>1.994846</td>\n",
       "      <td>1.700329</td>\n",
       "      <td>Train</td>\n",
       "      <td>0.294517</td>\n",
       "    </tr>\n",
       "  </tbody>\n",
       "</table>\n",
       "</div>"
      ],
      "text/plain": [
       "           Real  Predicted    Set  residuos\n",
       "8427   0.045802   0.246916  Train -0.201114\n",
       "47965 -0.633079  -0.564571  Train -0.068507\n",
       "49194 -0.479783  -0.373481  Train -0.106302\n",
       "26207  1.951048   1.563968  Train  0.387080\n",
       "23010  1.994846   1.700329  Train  0.294517"
      ]
     },
     "execution_count": 113,
     "metadata": {},
     "output_type": "execute_result"
    }
   ],
   "source": [
    "resultados['residuos'] = resultados['Real'] - resultados['Predicted']\n",
    "resultados.head()"
   ]
  },
  {
   "attachments": {},
   "cell_type": "markdown",
   "metadata": {},
   "source": [
    "### Representación gráfica:"
   ]
  },
  {
   "cell_type": "code",
   "execution_count": 114,
   "metadata": {},
   "outputs": [
    {
     "data": {
      "text/plain": [
       "Text(0.5, 1.0, 'Test residuos')"
      ]
     },
     "execution_count": 114,
     "metadata": {},
     "output_type": "execute_result"
    },
    {
     "data": {
      "image/png": "[encoded data removed]",
      "text/plain": [
       "<Figure size 1440x1440 with 4 Axes>"
      ]
     },
     "metadata": {
      "needs_background": "light"
     },
     "output_type": "display_data"
    }
   ],
   "source": [
    "fig, ax = plt.subplots(2,2,figsize=(20,20))\n",
    "# ploteamos los reales vs los predichos\n",
    "sns.regplot(data = resultados[resultados['Set'] == \"Train\"],\n",
    "            x = \"Real\",\n",
    "            y = \"Predicted\",\n",
    "            ax = ax[0,0],\n",
    "            color = \"grey\",\n",
    "            line_kws = {\"color\": \"red\", \"alpha\": 0.7 })\n",
    "sns.regplot(data = resultados[resultados['Set'] == \"Test\"],\n",
    "            x = \"Real\",\n",
    "            y = \"Predicted\",\n",
    "            color = \"gray\",\n",
    "            line_kws = {\"color\": \"red\", \"alpha\": 0.7 },\n",
    "            ax = ax[1,0])\n",
    "# ploteamos los residuos\n",
    "sns.histplot(resultados[resultados['Set'] == \"Train\"],\n",
    "             x=\"residuos\",\n",
    "             color =\"grey\",\n",
    "             kde=True,\n",
    "             ax = ax[0,1])\n",
    "sns.histplot(resultados[resultados['Set'] == \"Test\"],\n",
    "             x=\"residuos\",\n",
    "             color = \"grey\",\n",
    "             kde=True,\n",
    "             ax = ax[1,1])\n",
    "ax[0,0].set_title(\"Train reales vs predichos\", fontsize = 15, fontweight = \"bold\")\n",
    "ax[0,1].set_title(\"Train residuos\", fontsize = 20, fontweight = \"bold\")\n",
    "ax[1,0].set_title(\"Test reales vs predichos\", fontsize = 15, fontweight = \"bold\")\n",
    "ax[1,1].set_title(\"Test residuos\", fontsize = 20, fontweight = \"bold\")"
   ]
  },
  {
   "attachments": {},
   "cell_type": "markdown",
   "metadata": {},
   "source": [
    "#### **Interpretación:**\n",
    "\n",
    "- *En la comparación de los valores reales y los predichos*, \n",
    "\n",
    "El modelo es capaz de predecir correctamente los valores de carats intermedios (desde el -0.5 hasta 2 carats), observando que se genera una sobreestimación en los extremos que comprenden desde -1.5 hasta -0.5, y de 2 a 3. \n",
    "\n",
    "Es decir, dado que en la muestra contamos con una mayoría de diamantes con pocos carats, el modelo predice correctamente aquellos carats con pocos diamantes, pero falla al predecir los datos de los valores extremos de los carats (aquellos que tienen muy pocos o aquellos que tienen muchos, en comparación con la muestra). \n",
    "\n",
    "- Este ajuste se observa también en los *residuos*: \n",
    "\n",
    "En los diamantes con un menor número de carats, en muchas ocasiones la diferencia entre el valor real y el valor predicho es cercano a cero, por lo que diríamos que los predice con un ajuste adecuado. Sin embargo, a la altura entre el 0 y el 1, se observa un bajón en los residuos, lo que nos indica que es un grupo de diamantes cuyo número de carats está teniendo a infraestimar. Tiene sentido dado que el modelo está más entrenado en diamantes con menos carats.\n",
    "\n",
    "**Conclusiones**:\n",
    "- Observable tanto en la gráfica de la regresión como en los residuos, el modelo se ajusta correctamente para carats con un valor bajo-intermedio, pero no para aquellos diamantes con muchos carats, los cuales tenderá a infraestimar.   \n",
    "\n",
    "Esto se debe a que en la muestra se encuentran, principalmente, diamantes con pocos carats. Por lo tanto, haría falta introducir diamantes de mayor número de carats para que el modelo pudiera estimar sus valores correctamente."
   ]
  },
  {
   "attachments": {},
   "cell_type": "markdown",
   "metadata": {},
   "source": [
    "#### Guardamos los distintos df (df_train, df_test, y resultados) en un csv cada uno:"
   ]
  },
  {
   "cell_type": "code",
   "execution_count": 115,
   "metadata": {},
   "outputs": [],
   "source": [
    "df_train.to_csv('../datos/datos_train.csv')\n",
    "\n",
    "df_test.to_csv('../datos/datos_test.csv')\n",
    "\n",
    "resultados.to_csv('../datos/resultados-RL.csv')"
   ]
  },
  {
   "cell_type": "code",
   "execution_count": 126,
   "metadata": {},
   "outputs": [
    {
     "data": {
      "text/plain": [
       "dict_keys(['explained_variance', 'r2', 'max_error', 'neg_median_absolute_error', 'neg_mean_absolute_error', 'neg_mean_absolute_percentage_error', 'neg_mean_squared_error', 'neg_mean_squared_log_error', 'neg_root_mean_squared_error', 'neg_mean_poisson_deviance', 'neg_mean_gamma_deviance', 'accuracy', 'top_k_accuracy', 'roc_auc', 'roc_auc_ovr', 'roc_auc_ovo', 'roc_auc_ovr_weighted', 'roc_auc_ovo_weighted', 'balanced_accuracy', 'average_precision', 'neg_log_loss', 'neg_brier_score', 'adjusted_rand_score', 'rand_score', 'homogeneity_score', 'completeness_score', 'v_measure_score', 'mutual_info_score', 'adjusted_mutual_info_score', 'normalized_mutual_info_score', 'fowlkes_mallows_score', 'precision', 'precision_macro', 'precision_micro', 'precision_samples', 'precision_weighted', 'recall', 'recall_macro', 'recall_micro', 'recall_samples', 'recall_weighted', 'f1', 'f1_macro', 'f1_micro', 'f1_samples', 'f1_weighted', 'jaccard', 'jaccard_macro', 'jaccard_micro', 'jaccard_samples', 'jaccard_weighted'])"
      ]
     },
     "execution_count": 126,
     "metadata": {},
     "output_type": "execute_result"
    }
   ],
   "source": [
    "#vamos a comprobar primero qué análisis podemos utilizar\n",
    "metrics.SCORERS.keys()"
   ]
  },
  {
   "cell_type": "code",
   "execution_count": 138,
   "metadata": {},
   "outputs": [
    {
     "data": {
      "text/html": [
       "<div>\n",
       "<style scoped>\n",
       "    .dataframe tbody tr th:only-of-type {\n",
       "        vertical-align: middle;\n",
       "    }\n",
       "\n",
       "    .dataframe tbody tr th {\n",
       "        vertical-align: top;\n",
       "    }\n",
       "\n",
       "    .dataframe thead th {\n",
       "        text-align: right;\n",
       "    }\n",
       "</style>\n",
       "<table border=\"1\" class=\"dataframe\">\n",
       "  <thead>\n",
       "    <tr style=\"text-align: right;\">\n",
       "      <th></th>\n",
       "      <th>fit_time</th>\n",
       "      <th>score_time</th>\n",
       "      <th>test_r2</th>\n",
       "      <th>test_neg_root_mean_squared_error</th>\n",
       "    </tr>\n",
       "  </thead>\n",
       "  <tbody>\n",
       "    <tr>\n",
       "      <th>0</th>\n",
       "      <td>0.059166</td>\n",
       "      <td>0.003963</td>\n",
       "      <td>0.883891</td>\n",
       "      <td>-0.155599</td>\n",
       "    </tr>\n",
       "    <tr>\n",
       "      <th>1</th>\n",
       "      <td>0.015145</td>\n",
       "      <td>0.001654</td>\n",
       "      <td>0.936674</td>\n",
       "      <td>-0.130790</td>\n",
       "    </tr>\n",
       "    <tr>\n",
       "      <th>2</th>\n",
       "      <td>0.012817</td>\n",
       "      <td>0.001260</td>\n",
       "      <td>0.944980</td>\n",
       "      <td>-0.142904</td>\n",
       "    </tr>\n",
       "    <tr>\n",
       "      <th>3</th>\n",
       "      <td>0.010179</td>\n",
       "      <td>0.001134</td>\n",
       "      <td>0.923105</td>\n",
       "      <td>-0.219361</td>\n",
       "    </tr>\n",
       "    <tr>\n",
       "      <th>4</th>\n",
       "      <td>0.006408</td>\n",
       "      <td>0.000943</td>\n",
       "      <td>0.660501</td>\n",
       "      <td>-0.657631</td>\n",
       "    </tr>\n",
       "    <tr>\n",
       "      <th>5</th>\n",
       "      <td>0.006889</td>\n",
       "      <td>0.001059</td>\n",
       "      <td>0.849918</td>\n",
       "      <td>-0.444632</td>\n",
       "    </tr>\n",
       "    <tr>\n",
       "      <th>6</th>\n",
       "      <td>0.006349</td>\n",
       "      <td>0.001058</td>\n",
       "      <td>0.046646</td>\n",
       "      <td>-0.124515</td>\n",
       "    </tr>\n",
       "    <tr>\n",
       "      <th>7</th>\n",
       "      <td>0.011605</td>\n",
       "      <td>0.001294</td>\n",
       "      <td>0.786826</td>\n",
       "      <td>-0.093611</td>\n",
       "    </tr>\n",
       "    <tr>\n",
       "      <th>8</th>\n",
       "      <td>0.006182</td>\n",
       "      <td>0.000861</td>\n",
       "      <td>0.735276</td>\n",
       "      <td>-0.123779</td>\n",
       "    </tr>\n",
       "    <tr>\n",
       "      <th>9</th>\n",
       "      <td>0.007226</td>\n",
       "      <td>0.000822</td>\n",
       "      <td>0.763501</td>\n",
       "      <td>-0.159169</td>\n",
       "    </tr>\n",
       "  </tbody>\n",
       "</table>\n",
       "</div>"
      ],
      "text/plain": [
       "   fit_time  score_time   test_r2  test_neg_root_mean_squared_error\n",
       "0  0.059166    0.003963  0.883891                         -0.155599\n",
       "1  0.015145    0.001654  0.936674                         -0.130790\n",
       "2  0.012817    0.001260  0.944980                         -0.142904\n",
       "3  0.010179    0.001134  0.923105                         -0.219361\n",
       "4  0.006408    0.000943  0.660501                         -0.657631\n",
       "5  0.006889    0.001059  0.849918                         -0.444632\n",
       "6  0.006349    0.001058  0.046646                         -0.124515\n",
       "7  0.011605    0.001294  0.786826                         -0.093611\n",
       "8  0.006182    0.000861  0.735276                         -0.123779\n",
       "9  0.007226    0.000822  0.763501                         -0.159169"
      ]
     },
     "execution_count": 138,
     "metadata": {},
     "output_type": "execute_result"
    }
   ],
   "source": [
    "cv_scores = cross_validate(\n",
    "                estimator = LinearRegression(),\n",
    "                X         = X,\n",
    "                y         = y,\n",
    "                scoring   = ('r2', 'neg_root_mean_squared_error'), #los cálculos que nos interesa realizar\n",
    "                cv        = 10) #nº de veces que realizamos la comprobación\n",
    "\n",
    "#volcamos a un df para facilitar su legibilidad:\n",
    "cv_scores = pd.DataFrame(cv_scores)\n",
    "cv_scores #el valor no es realmente negativo, sino positivo"
   ]
  },
  {
   "cell_type": "code",
   "execution_count": 144,
   "metadata": {},
   "outputs": [
    {
     "name": "stdout",
     "output_type": "stream",
     "text": [
      "la media del R2 es = 0.75\n",
      "la media del RMSE es = 0.23\n"
     ]
    }
   ],
   "source": [
    "print(f'la media del R2 es = {round(cv_scores[\"test_r2\"].mean(),2)}')\n",
    "\n",
    "#usamos 'abs' para que nos devuelva el valor absoluto, es decir, que no aparezca negativo:\n",
    "print(f'la media del RMSE es = {round(abs(cv_scores[\"test_neg_root_mean_squared_error\"].mean()),2)}')"
   ]
  },
  {
   "attachments": {},
   "cell_type": "markdown",
   "metadata": {},
   "source": [
    "**R2**:\n",
    "\n",
    "La R^2 representa la proporción de la varianza que es explicada por las VI o VP sobre la VD o VR.\n",
    "\n",
    "En este caso, podríamos decir que, al tener un R^2 del 75%. Por ello, nuestras VI explican un 75% de la variación que nos encontramos en nuestra VD o VR.\n",
    "\n",
    "Por otro lado, el 25% restante de la varianza no está explicado por ninguna de las variables VP o VI recogidas en el modelo.\n",
    "\n",
    "\n",
    "**RMSE:**  \n",
    "\n",
    "El RMSE nos muestra la distancia entre los valores predichos y los reales. En nuestro caso, su valor es cercano al 0, (0.23) por lo que diríamos que nuestro modelo se ajusta correctamente. Sin embargo, gracias a la representación gráfica sabemos que esto no es cierto, ya que la distribución de los carats no es normal ni lineal.  \n",
    "\n",
    "Sin embargo, si es un buen modelo para predecir el número de carats de diamantes con un número de carats bajo-intermedio.\n",
    "\n"
   ]
  },
  {
   "cell_type": "markdown",
   "metadata": {},
   "source": []
  }
 ],
 "metadata": {
  "kernelspec": {
   "display_name": "base",
   "language": "python",
   "name": "python3"
  },
  "language_info": {
   "codemirror_mode": {
    "name": "ipython",
    "version": 3
   },
   "file_extension": ".py",
   "mimetype": "text/x-python",
   "name": "python",
   "nbconvert_exporter": "python",
   "pygments_lexer": "ipython3",
   "version": "3.9.7 (default, Sep 16 2021, 08:50:36) \n[Clang 10.0.0 ]"
  },
  "orig_nbformat": 4,
  "vscode": {
   "interpreter": {
    "hash": "40d3a090f54c6569ab1632332b64b2c03c39dcf918b08424e98f38b5ae0af88f"
   }
  }
 },
 "nbformat": 4,
 "nbformat_minor": 2
}
