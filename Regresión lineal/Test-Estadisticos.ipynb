{
 "cells": [
  {
   "attachments": {},
   "cell_type": "markdown",
   "metadata": {},
   "source": [
    "# Test estadísticos"
   ]
  },
  {
   "cell_type": "code",
   "execution_count": 1,
   "metadata": {},
   "outputs": [],
   "source": [
    "#importamos las librerías\n",
    "import pandas as pd\n",
    "import numpy as np\n",
    "\n",
    "pd.options.display.max_columns=None"
   ]
  },
  {
   "cell_type": "code",
   "execution_count": 3,
   "metadata": {},
   "outputs": [
    {
     "data": {
      "text/html": [
       "<div>\n",
       "<style scoped>\n",
       "    .dataframe tbody tr th:only-of-type {\n",
       "        vertical-align: middle;\n",
       "    }\n",
       "\n",
       "    .dataframe tbody tr th {\n",
       "        vertical-align: top;\n",
       "    }\n",
       "\n",
       "    .dataframe thead th {\n",
       "        text-align: right;\n",
       "    }\n",
       "</style>\n",
       "<table border=\"1\" class=\"dataframe\">\n",
       "  <thead>\n",
       "    <tr style=\"text-align: right;\">\n",
       "      <th></th>\n",
       "      <th>brand</th>\n",
       "      <th>category</th>\n",
       "      <th>name</th>\n",
       "      <th>size</th>\n",
       "      <th>rating</th>\n",
       "      <th>number_of_reviews</th>\n",
       "      <th>love</th>\n",
       "      <th>price</th>\n",
       "      <th>value_price</th>\n",
       "      <th>URL</th>\n",
       "      <th>MarketingFlags</th>\n",
       "      <th>MarketingFlags_content</th>\n",
       "      <th>options</th>\n",
       "      <th>details</th>\n",
       "      <th>how_to_use</th>\n",
       "      <th>ingredients</th>\n",
       "      <th>online_only</th>\n",
       "      <th>exclusive</th>\n",
       "      <th>limited_edition</th>\n",
       "      <th>limited_time_offer</th>\n",
       "    </tr>\n",
       "    <tr>\n",
       "      <th>id</th>\n",
       "      <th></th>\n",
       "      <th></th>\n",
       "      <th></th>\n",
       "      <th></th>\n",
       "      <th></th>\n",
       "      <th></th>\n",
       "      <th></th>\n",
       "      <th></th>\n",
       "      <th></th>\n",
       "      <th></th>\n",
       "      <th></th>\n",
       "      <th></th>\n",
       "      <th></th>\n",
       "      <th></th>\n",
       "      <th></th>\n",
       "      <th></th>\n",
       "      <th></th>\n",
       "      <th></th>\n",
       "      <th></th>\n",
       "      <th></th>\n",
       "    </tr>\n",
       "  </thead>\n",
       "  <tbody>\n",
       "    <tr>\n",
       "      <th>2218774</th>\n",
       "      <td>Acqua Di Parma</td>\n",
       "      <td>Fragrance</td>\n",
       "      <td>Blu Mediterraneo MINIATURE Set</td>\n",
       "      <td>5 x 0.16oz/5mL</td>\n",
       "      <td>4.0</td>\n",
       "      <td>4</td>\n",
       "      <td>3002</td>\n",
       "      <td>66.0</td>\n",
       "      <td>75.0</td>\n",
       "      <td>https://www.sephora.com/product/blu-mediterran...</td>\n",
       "      <td>True</td>\n",
       "      <td>online only</td>\n",
       "      <td>no options</td>\n",
       "      <td>This enchanting set comes in a specially handc...</td>\n",
       "      <td>Suggested Usage:-Fragrance is intensified by t...</td>\n",
       "      <td>Arancia di Capri Eau de Toilette: Alcohol Dena...</td>\n",
       "      <td>1</td>\n",
       "      <td>0</td>\n",
       "      <td>0</td>\n",
       "      <td>0</td>\n",
       "    </tr>\n",
       "    <tr>\n",
       "      <th>2044816</th>\n",
       "      <td>Acqua Di Parma</td>\n",
       "      <td>Cologne</td>\n",
       "      <td>Colonia</td>\n",
       "      <td>0.7 oz/ 20 mL</td>\n",
       "      <td>4.5</td>\n",
       "      <td>76</td>\n",
       "      <td>2700</td>\n",
       "      <td>66.0</td>\n",
       "      <td>66.0</td>\n",
       "      <td>https://www.sephora.com/product/colonia-P16360...</td>\n",
       "      <td>True</td>\n",
       "      <td>online only</td>\n",
       "      <td>- 0.7 oz/ 20 mL  Spray  - 1.7 oz/ 50 mL Eau d...</td>\n",
       "      <td>An elegant timeless scent filled with a fresh-...</td>\n",
       "      <td>no instructions</td>\n",
       "      <td>unknown</td>\n",
       "      <td>1</td>\n",
       "      <td>0</td>\n",
       "      <td>0</td>\n",
       "      <td>0</td>\n",
       "    </tr>\n",
       "    <tr>\n",
       "      <th>1417567</th>\n",
       "      <td>Acqua Di Parma</td>\n",
       "      <td>Perfume</td>\n",
       "      <td>Arancia di Capri</td>\n",
       "      <td>5 oz/ 148 mL</td>\n",
       "      <td>4.5</td>\n",
       "      <td>26</td>\n",
       "      <td>2600</td>\n",
       "      <td>180.0</td>\n",
       "      <td>180.0</td>\n",
       "      <td>https://www.sephora.com/product/blu-mediterran...</td>\n",
       "      <td>True</td>\n",
       "      <td>online only</td>\n",
       "      <td>- 1oz/30mL Eau de Toilette  - 2.5 oz/ 74 mL E...</td>\n",
       "      <td>Fragrance Family: Fresh Scent Type: Fresh Citr...</td>\n",
       "      <td>no instructions</td>\n",
       "      <td>Alcohol Denat.- Water- Fragrance- Limonene- Li...</td>\n",
       "      <td>1</td>\n",
       "      <td>0</td>\n",
       "      <td>0</td>\n",
       "      <td>0</td>\n",
       "    </tr>\n",
       "  </tbody>\n",
       "</table>\n",
       "</div>"
      ],
      "text/plain": [
       "                  brand   category                            name  \\\n",
       "id                                                                   \n",
       "2218774  Acqua Di Parma  Fragrance  Blu Mediterraneo MINIATURE Set   \n",
       "2044816  Acqua Di Parma    Cologne                         Colonia   \n",
       "1417567  Acqua Di Parma    Perfume                Arancia di Capri   \n",
       "\n",
       "                   size  rating  number_of_reviews  love  price  value_price  \\\n",
       "id                                                                             \n",
       "2218774  5 x 0.16oz/5mL     4.0                  4  3002   66.0         75.0   \n",
       "2044816   0.7 oz/ 20 mL     4.5                 76  2700   66.0         66.0   \n",
       "1417567    5 oz/ 148 mL     4.5                 26  2600  180.0        180.0   \n",
       "\n",
       "                                                       URL  MarketingFlags  \\\n",
       "id                                                                           \n",
       "2218774  https://www.sephora.com/product/blu-mediterran...            True   \n",
       "2044816  https://www.sephora.com/product/colonia-P16360...            True   \n",
       "1417567  https://www.sephora.com/product/blu-mediterran...            True   \n",
       "\n",
       "        MarketingFlags_content  \\\n",
       "id                               \n",
       "2218774            online only   \n",
       "2044816            online only   \n",
       "1417567            online only   \n",
       "\n",
       "                                                   options  \\\n",
       "id                                                           \n",
       "2218774                                         no options   \n",
       "2044816   - 0.7 oz/ 20 mL  Spray  - 1.7 oz/ 50 mL Eau d...   \n",
       "1417567   - 1oz/30mL Eau de Toilette  - 2.5 oz/ 74 mL E...   \n",
       "\n",
       "                                                   details  \\\n",
       "id                                                           \n",
       "2218774  This enchanting set comes in a specially handc...   \n",
       "2044816  An elegant timeless scent filled with a fresh-...   \n",
       "1417567  Fragrance Family: Fresh Scent Type: Fresh Citr...   \n",
       "\n",
       "                                                how_to_use  \\\n",
       "id                                                           \n",
       "2218774  Suggested Usage:-Fragrance is intensified by t...   \n",
       "2044816                                    no instructions   \n",
       "1417567                                    no instructions   \n",
       "\n",
       "                                               ingredients  online_only  \\\n",
       "id                                                                        \n",
       "2218774  Arancia di Capri Eau de Toilette: Alcohol Dena...            1   \n",
       "2044816                                            unknown            1   \n",
       "1417567  Alcohol Denat.- Water- Fragrance- Limonene- Li...            1   \n",
       "\n",
       "         exclusive  limited_edition  limited_time_offer  \n",
       "id                                                       \n",
       "2218774          0                0                   0  \n",
       "2044816          0                0                   0  \n",
       "1417567          0                0                   0  "
      ]
     },
     "execution_count": 3,
     "metadata": {},
     "output_type": "execute_result"
    }
   ],
   "source": [
    "#abrimos el df para contestar a los enunciados:\n",
    "\n",
    "df = pd.read_csv('datos/sephora_website_dataset.csv', index_col=0)\n",
    "df.head(3)"
   ]
  },
  {
   "cell_type": "code",
   "execution_count": 4,
   "metadata": {},
   "outputs": [
    {
     "name": "stdout",
     "output_type": "stream",
     "text": [
      "<class 'pandas.core.frame.DataFrame'>\n",
      "Int64Index: 9168 entries, 2218774 to 304\n",
      "Data columns (total 20 columns):\n",
      " #   Column                  Non-Null Count  Dtype  \n",
      "---  ------                  --------------  -----  \n",
      " 0   brand                   9168 non-null   object \n",
      " 1   category                9168 non-null   object \n",
      " 2   name                    9168 non-null   object \n",
      " 3   size                    9168 non-null   object \n",
      " 4   rating                  9168 non-null   float64\n",
      " 5   number_of_reviews       9168 non-null   int64  \n",
      " 6   love                    9168 non-null   int64  \n",
      " 7   price                   9168 non-null   float64\n",
      " 8   value_price             9168 non-null   float64\n",
      " 9   URL                     9168 non-null   object \n",
      " 10  MarketingFlags          9168 non-null   bool   \n",
      " 11  MarketingFlags_content  9168 non-null   object \n",
      " 12  options                 9168 non-null   object \n",
      " 13  details                 9168 non-null   object \n",
      " 14  how_to_use              9168 non-null   object \n",
      " 15  ingredients             9168 non-null   object \n",
      " 16  online_only             9168 non-null   int64  \n",
      " 17  exclusive               9168 non-null   int64  \n",
      " 18  limited_edition         9168 non-null   int64  \n",
      " 19  limited_time_offer      9168 non-null   int64  \n",
      "dtypes: bool(1), float64(3), int64(6), object(10)\n",
      "memory usage: 1.4+ MB\n"
     ]
    }
   ],
   "source": [
    "df.info()"
   ]
  },
  {
   "attachments": {},
   "cell_type": "markdown",
   "metadata": {},
   "source": [
    "#### 1. ¿Qué diferencia existe el error de tipo I y el error de tipo II?"
   ]
  },
  {
   "attachments": {},
   "cell_type": "markdown",
   "metadata": {},
   "source": [
    "Partiendo de la hipótesis nula (en la que se asumen que no existen diferencias entre grupos o relación entre variables):\n",
    "\n",
    "- *Error tipo I*: Rechazaríamos la H0 (hip. nula) cuando es verdadera.\n",
    "\n",
    "- *Error tipo II*: La H0 (hp. nula) es falsa, pero no la rechazamos."
   ]
  },
  {
   "attachments": {},
   "cell_type": "markdown",
   "metadata": {},
   "source": [
    "#### 2. ¿Qué es la asimetría?"
   ]
  },
  {
   "attachments": {},
   "cell_type": "markdown",
   "metadata": {},
   "source": [
    "La falta de simetría que presenta una distribución teniendo en cuenta la media, mediana y la moda.  \n",
    "\n",
    "La asimetría puede generar una curva sesgada hacia la derecha (asimetría negativa) o hacia la izquierda (asimetría positiva)."
   ]
  },
  {
   "attachments": {},
   "cell_type": "markdown",
   "metadata": {},
   "source": [
    "#### 3. ¿Es vuestra variable respuesta asimétrica?"
   ]
  },
  {
   "cell_type": "markdown",
   "metadata": {},
   "source": []
  },
  {
   "attachments": {},
   "cell_type": "markdown",
   "metadata": {},
   "source": [
    "#### 4. ¿Qué tipo de curtosis presenta vuestra variable respuesta?"
   ]
  },
  {
   "cell_type": "markdown",
   "metadata": {},
   "source": []
  },
  {
   "attachments": {},
   "cell_type": "markdown",
   "metadata": {},
   "source": [
    "#### 5. ¿Es vuestra variable respuesta normal? Demostrarlo visual y analíticamente."
   ]
  },
  {
   "cell_type": "markdown",
   "metadata": {},
   "source": []
  }
 ],
 "metadata": {
  "kernelspec": {
   "display_name": "base",
   "language": "python",
   "name": "python3"
  },
  "language_info": {
   "codemirror_mode": {
    "name": "ipython",
    "version": 3
   },
   "file_extension": ".py",
   "mimetype": "text/x-python",
   "name": "python",
   "nbconvert_exporter": "python",
   "pygments_lexer": "ipython3",
   "version": "3.9.7 (default, Sep 16 2021, 08:50:36) \n[Clang 10.0.0 ]"
  },
  "orig_nbformat": 4,
  "vscode": {
   "interpreter": {
    "hash": "40d3a090f54c6569ab1632332b64b2c03c39dcf918b08424e98f38b5ae0af88f"
   }
  }
 },
 "nbformat": 4,
 "nbformat_minor": 2
}
