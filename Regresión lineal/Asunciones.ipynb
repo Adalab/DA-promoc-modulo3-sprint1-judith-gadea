{
 "cells": [
  {
   "attachments": {},
   "cell_type": "markdown",
   "metadata": {},
   "source": [
    "En este ejercicio de pair programming seguiréis usando el dataset que seleccionasteis.\n",
    "El objetivo de este pairprgramming es que evaluéis si vuestro set de datos cumple todas las asunciones que se deben cumplir para hacer una regresión lineal. Recordamos que estas asunciones son:  \n",
    "\n",
    "- Normalidad (ya la deberíais haber evaluado)\n",
    "\n",
    "- Homogeneidad de varianzas.\n",
    "\n",
    "- Independencia de las variables.\n",
    "\n",
    "Cada asunción la deberéis testar de forma visual y analítica."
   ]
  },
  {
   "cell_type": "code",
   "execution_count": null,
   "metadata": {},
   "outputs": [],
   "source": []
  }
 ],
 "metadata": {
  "kernelspec": {
   "display_name": "Python 3",
   "language": "python",
   "name": "python3"
  },
  "language_info": {
   "name": "python",
   "version": "3.9.1 (default, Jan 10 2023, 16:36:13) \n[Clang 14.0.0 (clang-1400.0.29.202)]"
  },
  "orig_nbformat": 4,
  "vscode": {
   "interpreter": {
    "hash": "77e65e9c7571c075be141a5694f1882fd5e8e0d0edb21648a3419d64382fbf17"
   }
  }
 },
 "nbformat": 4,
 "nbformat_minor": 2
}
