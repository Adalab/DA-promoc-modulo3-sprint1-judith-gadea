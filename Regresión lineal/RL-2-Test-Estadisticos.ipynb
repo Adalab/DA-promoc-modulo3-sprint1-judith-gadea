{
 "cells": [
  {
   "attachments": {},
   "cell_type": "markdown",
   "metadata": {},
   "source": [
    "# Test estadísticos"
   ]
  },
  {
   "cell_type": "markdown",
   "metadata": {},
   "source": [
    "#### Test estadísticos I - Introducción\n",
    "\n",
    "Estos test son técnicas explicativas que utilizan muestras representativas de una población (de nuestros datos) para comprobar la certeza de nuestras afirmaciones (llamadas hipótesis). Esta certeza se expresa en términos de probabilidad.\n",
    "\n",
    "Aprenderemos que es:\n",
    "  - La hipótesis nula\n",
    "  - Error de Tipo I y Tipo II\n",
    "  - p-valor"
   ]
  },
  {
   "cell_type": "code",
   "execution_count": 9,
   "metadata": {},
   "outputs": [],
   "source": [
    "#importamos las librerías\n",
    "import pandas as pd\n",
    "import numpy as np\n",
    "import seaborn as sns\n",
    "import matplotlib.pyplot as plt \n",
    "from scipy.stats import skew # importamos esta libreria para conocer la asimetria.\n",
    "from scipy.stats import kurtosistest #importamos esta libreria para conocer la curtiosis.\n",
    "from scipy import stats # libreria que se utiliza para contrastar la normalidad.\n",
    "from scipy.stats import kstest \n",
    "plt.rcParams[\"figure.figsize\"] = (12,10)\n",
    "pd.options.display.max_columns=None"
   ]
  },
  {
   "cell_type": "code",
   "execution_count": 10,
   "metadata": {},
   "outputs": [
    {
     "data": {
      "text/html": [
       "<div>\n",
       "<style scoped>\n",
       "    .dataframe tbody tr th:only-of-type {\n",
       "        vertical-align: middle;\n",
       "    }\n",
       "\n",
       "    .dataframe tbody tr th {\n",
       "        vertical-align: top;\n",
       "    }\n",
       "\n",
       "    .dataframe thead th {\n",
       "        text-align: right;\n",
       "    }\n",
       "</style>\n",
       "<table border=\"1\" class=\"dataframe\">\n",
       "  <thead>\n",
       "    <tr style=\"text-align: right;\">\n",
       "      <th></th>\n",
       "      <th>carat</th>\n",
       "      <th>cut</th>\n",
       "      <th>color</th>\n",
       "      <th>clarity</th>\n",
       "      <th>depth</th>\n",
       "      <th>table</th>\n",
       "      <th>price</th>\n",
       "      <th>lenght_mm</th>\n",
       "      <th>width_mm</th>\n",
       "      <th>depth_mm</th>\n",
       "    </tr>\n",
       "  </thead>\n",
       "  <tbody>\n",
       "    <tr>\n",
       "      <th>1</th>\n",
       "      <td>0.23</td>\n",
       "      <td>Ideal</td>\n",
       "      <td>E</td>\n",
       "      <td>SI2</td>\n",
       "      <td>61.5</td>\n",
       "      <td>55.0</td>\n",
       "      <td>326</td>\n",
       "      <td>3.95</td>\n",
       "      <td>3.98</td>\n",
       "      <td>2.43</td>\n",
       "    </tr>\n",
       "    <tr>\n",
       "      <th>2</th>\n",
       "      <td>0.21</td>\n",
       "      <td>Premium</td>\n",
       "      <td>E</td>\n",
       "      <td>SI1</td>\n",
       "      <td>59.8</td>\n",
       "      <td>61.0</td>\n",
       "      <td>326</td>\n",
       "      <td>3.89</td>\n",
       "      <td>3.84</td>\n",
       "      <td>2.31</td>\n",
       "    </tr>\n",
       "    <tr>\n",
       "      <th>3</th>\n",
       "      <td>0.23</td>\n",
       "      <td>Good</td>\n",
       "      <td>E</td>\n",
       "      <td>VS1</td>\n",
       "      <td>61.8</td>\n",
       "      <td>65.0</td>\n",
       "      <td>327</td>\n",
       "      <td>4.05</td>\n",
       "      <td>4.07</td>\n",
       "      <td>2.31</td>\n",
       "    </tr>\n",
       "  </tbody>\n",
       "</table>\n",
       "</div>"
      ],
      "text/plain": [
       "   carat      cut color clarity  depth  table  price  lenght_mm  width_mm  \\\n",
       "1   0.23    Ideal     E     SI2   61.5   55.0    326       3.95      3.98   \n",
       "2   0.21  Premium     E     SI1   59.8   61.0    326       3.89      3.84   \n",
       "3   0.23     Good     E     VS1   61.8   65.0    327       4.05      4.07   \n",
       "\n",
       "   depth_mm  \n",
       "1      2.43  \n",
       "2      2.31  \n",
       "3      2.31  "
      ]
     },
     "execution_count": 10,
     "metadata": {},
     "output_type": "execute_result"
    }
   ],
   "source": [
    "df = pd.read_csv('../datos/diamonds_1.csv', index_col=0)\n",
    "df.head(3)"
   ]
  },
  {
   "cell_type": "code",
   "execution_count": 11,
   "metadata": {},
   "outputs": [
    {
     "name": "stdout",
     "output_type": "stream",
     "text": [
      "<class 'pandas.core.frame.DataFrame'>\n",
      "Int64Index: 53794 entries, 1 to 53940\n",
      "Data columns (total 10 columns):\n",
      " #   Column     Non-Null Count  Dtype  \n",
      "---  ------     --------------  -----  \n",
      " 0   carat      53794 non-null  float64\n",
      " 1   cut        53794 non-null  object \n",
      " 2   color      53794 non-null  object \n",
      " 3   clarity    53794 non-null  object \n",
      " 4   depth      53794 non-null  float64\n",
      " 5   table      53794 non-null  float64\n",
      " 6   price      53794 non-null  int64  \n",
      " 7   lenght_mm  53794 non-null  float64\n",
      " 8   width_mm   53794 non-null  float64\n",
      " 9   depth_mm   53794 non-null  float64\n",
      "dtypes: float64(6), int64(1), object(3)\n",
      "memory usage: 4.5+ MB\n"
     ]
    }
   ],
   "source": [
    "df.info()"
   ]
  },
  {
   "attachments": {},
   "cell_type": "markdown",
   "metadata": {},
   "source": [
    "#### 1. ¿Qué diferencia existe el error de tipo I y el error de tipo II?"
   ]
  },
  {
   "attachments": {},
   "cell_type": "markdown",
   "metadata": {},
   "source": [
    "Partiendo de la hipótesis nula (en la que se asumen que no existen diferencias entre grupos o relación entre variables):\n",
    "\n",
    "- *Error tipo I*: Rechazaríamos la H0 (hip. nula) cuando es verdadera.\n",
    "\n",
    "- *Error tipo II*: La H0 (hp. nula) es falsa, pero no la rechazamos."
   ]
  },
  {
   "attachments": {},
   "cell_type": "markdown",
   "metadata": {},
   "source": [
    "#### 2. ¿Qué es la asimetría?"
   ]
  },
  {
   "attachments": {},
   "cell_type": "markdown",
   "metadata": {},
   "source": [
    "La falta de simetría que presenta una distribución teniendo en cuenta la media, mediana y la moda.  \n",
    "\n",
    "La asimetría puede generar una curva sesgada hacia la derecha (asimetría negativa) o hacia la izquierda (asimetría positiva)."
   ]
  },
  {
   "attachments": {},
   "cell_type": "markdown",
   "metadata": {},
   "source": [
    "#### 3. ¿Es vuestra variable respuesta asimétrica?"
   ]
  },
  {
   "cell_type": "code",
   "execution_count": 12,
   "metadata": {},
   "outputs": [
    {
     "data": {
      "text/plain": [
       "0.9717188071571432"
      ]
     },
     "execution_count": 12,
     "metadata": {},
     "output_type": "execute_result"
    }
   ],
   "source": [
    "#Comprobamos con 'skew()' la falta de simetría que presenta una distribución teniendo en cuenta la media.\n",
    "df['carat'].skew()"
   ]
  },
  {
   "cell_type": "markdown",
   "metadata": {},
   "source": [
    "Observamos que nuestros datos son simetricos positivos, lo que hace que la distribucion de los mismos datos NO sea normal "
   ]
  },
  {
   "cell_type": "code",
   "execution_count": 13,
   "metadata": {},
   "outputs": [
    {
     "data": {
      "image/png": "[encoded data removed]",
      "text/plain": [
       "<Figure size 360x360 with 1 Axes>"
      ]
     },
     "metadata": {
      "needs_background": "light"
     },
     "output_type": "display_data"
    }
   ],
   "source": [
    "# graficamos los datos obtenidos al sacar la asimetria de nuestra variable respuesta 'carat'.\n",
    "sns.displot(df['carat'], kde = True, color = \"purple\");"
   ]
  },
  {
   "attachments": {},
   "cell_type": "markdown",
   "metadata": {},
   "source": [
    "Observamos que nuestros datos no se parecen en nada a una campana de Gauss, por lo que podemos decir que los datos NO siguen una distribucion normal.\n",
    "\n",
    "Vemos que la mayoría de diamantes de la muestra tienden a concentrarse en los niveles de carats más bajos, por lo tanto, se da esta asimetría ya que la mayoría de diamantes que observamos en la muestra son de baja calidad (pocos carats).\n",
    "\n"
   ]
  },
  {
   "attachments": {},
   "cell_type": "markdown",
   "metadata": {},
   "source": [
    "#### 4. ¿Qué tipo de curtosis presenta vuestra variable respuesta?"
   ]
  },
  {
   "cell_type": "code",
   "execution_count": 14,
   "metadata": {},
   "outputs": [
    {
     "data": {
      "text/plain": [
       "KurtosistestResult(statistic=16.867998200250817, pvalue=7.737437113097749e-64)"
      ]
     },
     "execution_count": 14,
     "metadata": {},
     "output_type": "execute_result"
    }
   ],
   "source": [
    "#Con este método evaluamos el grado de concentracion que presenta los valores de una variable alrededor de la\n",
    "#zona central de las frecuencias.\n",
    "kurtosistest(df['carat'])"
   ]
  },
  {
   "attachments": {},
   "cell_type": "markdown",
   "metadata": {},
   "source": [
    "Nuestra variable respuesta 'carat', presenta un tipo de curtosis denomindado Leptocurtosis, dado que presenta un valor mayor que cero.\n",
    "\n",
    "El p-valor del test es > 0.05 no podemos rechazar la HO (hipótesis nula), siendo asi datos normales."
   ]
  },
  {
   "attachments": {},
   "cell_type": "markdown",
   "metadata": {},
   "source": [
    "#### 5. ¿Es vuestra variable respuesta normal? Demostrarlo visual y analíticamente."
   ]
  },
  {
   "cell_type": "code",
   "execution_count": 15,
   "metadata": {},
   "outputs": [
    {
     "name": "stderr",
     "output_type": "stream",
     "text": [
      "/opt/anaconda3/lib/python3.9/site-packages/scipy/stats/morestats.py:1760: UserWarning: p-value may not be accurate for N > 5000.\n",
      "  warnings.warn(\"p-value may not be accurate for N > 5000.\")\n"
     ]
    },
    {
     "data": {
      "text/plain": [
       "ShapiroResult(statistic=0.901063084602356, pvalue=0.0)"
      ]
     },
     "execution_count": 15,
     "metadata": {},
     "output_type": "execute_result"
    }
   ],
   "source": [
    "#Test de Shapiro-Wilk\n",
    "stats.shapiro(df['carat'])"
   ]
  },
  {
   "cell_type": "markdown",
   "metadata": {},
   "source": [
    "- Dado que el tamaño de la muestra es mayor que 5000 hemos de elegir el test de Kolmogorov-Smirnov, ya que el test de Shapiro se utiliza para un tamaño de muestra más pequeño"
   ]
  },
  {
   "cell_type": "code",
   "execution_count": 16,
   "metadata": {},
   "outputs": [
    {
     "data": {
      "text/plain": [
       "KstestResult(statistic=0.5904707898640938, pvalue=0.0)"
      ]
     },
     "execution_count": 16,
     "metadata": {},
     "output_type": "execute_result"
    }
   ],
   "source": [
    "#Test de Kolmogorov-Smirnov\n",
    "kstest(df[\"carat\"], 'norm')"
   ]
  },
  {
   "cell_type": "markdown",
   "metadata": {},
   "source": [
    "- Comprobamos que los datos NO son normales dado que el p-valor es 0.0, y podemos rechazar la HO (hipotesis nula)"
   ]
  },
  {
   "cell_type": "markdown",
   "metadata": {},
   "source": []
  }
 ],
 "metadata": {
  "kernelspec": {
   "display_name": "base",
   "language": "python",
   "name": "python3"
  },
  "language_info": {
   "codemirror_mode": {
    "name": "ipython",
    "version": 3
   },
   "file_extension": ".py",
   "mimetype": "text/x-python",
   "name": "python",
   "nbconvert_exporter": "python",
   "pygments_lexer": "ipython3",
   "version": "3.9.7"
  },
  "orig_nbformat": 4,
  "vscode": {
   "interpreter": {
    "hash": "40d3a090f54c6569ab1632332b64b2c03c39dcf918b08424e98f38b5ae0af88f"
   }
  }
 },
 "nbformat": 4,
 "nbformat_minor": 2
}
