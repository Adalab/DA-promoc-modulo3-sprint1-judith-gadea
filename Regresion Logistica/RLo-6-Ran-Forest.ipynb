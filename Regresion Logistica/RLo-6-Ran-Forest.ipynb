{
 "cells": [
  {
   "attachments": {},
   "cell_type": "markdown",
   "metadata": {},
   "source": [
    "\n",
    "# Pair Programming Random Forest"
   ]
  },
  {
   "attachments": {},
   "cell_type": "markdown",
   "metadata": {},
   "source": [
    "Hasta ahora hemos ajustado el modelo usando una Regresión Logística, pero como hemos aprendido, podemos usar el Random Forest en este tipo de problemas. Los objetivos de este pair programming :"
   ]
  },
  {
   "cell_type": "code",
   "execution_count": 5,
   "metadata": {},
   "outputs": [],
   "source": [
    "# Tratamiento de datos\n",
    "# ------------------------------------------------------------------------------\n",
    "import numpy as np\n",
    "import pandas as pd\n",
    "from tqdm import tqdm\n",
    "# Gráficos\n",
    "# ------------------------------------------------------------------------------\n",
    "import matplotlib.pyplot as plt\n",
    "import seaborn as sns\n",
    "# Modelado y evaluación\n",
    "# ------------------------------------------------------------------------------\n",
    "from sklearn.tree import DecisionTreeClassifier\n",
    "from sklearn.model_selection import train_test_split\n",
    "from sklearn.ensemble import RandomForestClassifier\n",
    "from sklearn import tree\n",
    "from sklearn.metrics import confusion_matrix, accuracy_score, precision_score, recall_score, f1_score , cohen_kappa_score, roc_curve,roc_auc_score\n",
    "from sklearn.model_selection import GridSearchCV\n",
    "# Configuración warnings\n",
    "# ------------------------------------------------------------------------------\n",
    "import warnings\n",
    "warnings.filterwarnings('ignore')"
   ]
  },
  {
   "cell_type": "code",
   "execution_count": 6,
   "metadata": {},
   "outputs": [
    {
     "data": {
      "text/html": [
       "<div>\n",
       "<style scoped>\n",
       "    .dataframe tbody tr th:only-of-type {\n",
       "        vertical-align: middle;\n",
       "    }\n",
       "\n",
       "    .dataframe tbody tr th {\n",
       "        vertical-align: top;\n",
       "    }\n",
       "\n",
       "    .dataframe thead th {\n",
       "        text-align: right;\n",
       "    }\n",
       "</style>\n",
       "<table border=\"1\" class=\"dataframe\">\n",
       "  <thead>\n",
       "    <tr style=\"text-align: right;\">\n",
       "      <th></th>\n",
       "      <th>age</th>\n",
       "      <th>estimatedsalary</th>\n",
       "      <th>purchased</th>\n",
       "      <th>gender_Female</th>\n",
       "      <th>gender_Male</th>\n",
       "    </tr>\n",
       "  </thead>\n",
       "  <tbody>\n",
       "    <tr>\n",
       "      <th>0</th>\n",
       "      <td>19</td>\n",
       "      <td>19000</td>\n",
       "      <td>0</td>\n",
       "      <td>0</td>\n",
       "      <td>1</td>\n",
       "    </tr>\n",
       "    <tr>\n",
       "      <th>1</th>\n",
       "      <td>35</td>\n",
       "      <td>20000</td>\n",
       "      <td>0</td>\n",
       "      <td>0</td>\n",
       "      <td>1</td>\n",
       "    </tr>\n",
       "    <tr>\n",
       "      <th>2</th>\n",
       "      <td>26</td>\n",
       "      <td>43000</td>\n",
       "      <td>0</td>\n",
       "      <td>1</td>\n",
       "      <td>0</td>\n",
       "    </tr>\n",
       "    <tr>\n",
       "      <th>3</th>\n",
       "      <td>27</td>\n",
       "      <td>57000</td>\n",
       "      <td>0</td>\n",
       "      <td>1</td>\n",
       "      <td>0</td>\n",
       "    </tr>\n",
       "    <tr>\n",
       "      <th>4</th>\n",
       "      <td>19</td>\n",
       "      <td>76000</td>\n",
       "      <td>0</td>\n",
       "      <td>0</td>\n",
       "      <td>1</td>\n",
       "    </tr>\n",
       "  </tbody>\n",
       "</table>\n",
       "</div>"
      ],
      "text/plain": [
       "   age  estimatedsalary  purchased  gender_Female  gender_Male\n",
       "0   19            19000          0              0            1\n",
       "1   35            20000          0              0            1\n",
       "2   26            43000          0              1            0\n",
       "3   27            57000          0              1            0\n",
       "4   19            76000          0              0            1"
      ]
     },
     "execution_count": 6,
     "metadata": {},
     "output_type": "execute_result"
    }
   ],
   "source": [
    "#abrimos el DF:\n",
    "df = pd.read_csv('datos/EST_Social_Network_Ads_Aj_int.csv', index_col=0)\n",
    "df.head()"
   ]
  },
  {
   "attachments": {},
   "cell_type": "markdown",
   "metadata": {},
   "source": [
    "\n",
    "- ### Ajustad un modelo de Random Forest a nuestros datos. \n"
   ]
  },
  {
   "cell_type": "markdown",
   "metadata": {},
   "source": [
    "Iniciamos nuestro modelo Random Forest"
   ]
  },
  {
   "cell_type": "code",
   "execution_count": 7,
   "metadata": {},
   "outputs": [],
   "source": [
    "#Separamos los datos en X e y \n",
    "X = df.drop('purchased', axis=1)\n",
    "y = df['purchased']"
   ]
  },
  {
   "cell_type": "code",
   "execution_count": 8,
   "metadata": {},
   "outputs": [],
   "source": [
    "#generamos los df de entrenamiento y test\n",
    "x_train, x_test, y_train, y_test = train_test_split(X, y, \n",
    "                                                    test_size = 0.2, random_state = 42)"
   ]
  },
  {
   "cell_type": "markdown",
   "metadata": {},
   "source": [
    "\n",
    "- ### Calculad las métricas a nuestro nuevo modelo. \n"
   ]
  },
  {
   "cell_type": "code",
   "execution_count": 9,
   "metadata": {},
   "outputs": [],
   "source": [
    "#establecer los parámetros\n",
    "param_rf = {'max_depth': [2, 4, 6, 7], #bajamos la profundidad\n",
    "         'max_features': [1, 2, 3], #a partir del resultado del R cuadrado.\n",
    "         'min_samples_split': [50, 100, 150, 200],\n",
    "         'min_samples_leaf': [30, 70, 150]}"
   ]
  },
  {
   "cell_type": "code",
   "execution_count": 10,
   "metadata": {},
   "outputs": [],
   "source": [
    "# iniciamos el modelo con GridSearch con los parámetros establecidos previamente\n",
    "gs_rf = GridSearchCV(\n",
    "            estimator=RandomForestClassifier(random_state= 42), # aplicación del modelo de DTree\n",
    "            param_grid= param_rf, # para que testee nuestros hiperparámetros\n",
    "            cv=10) # crossvalidation "
   ]
  },
  {
   "cell_type": "code",
   "execution_count": 11,
   "metadata": {},
   "outputs": [
    {
     "data": {
      "text/plain": [
       "GridSearchCV(cv=10, estimator=RandomForestClassifier(random_state=42),\n",
       "             param_grid={'max_depth': [2, 4, 6, 7], 'max_features': [1, 2, 3],\n",
       "                         'min_samples_leaf': [30, 70, 150],\n",
       "                         'min_samples_split': [50, 100, 150, 200]})"
      ]
     },
     "execution_count": 11,
     "metadata": {},
     "output_type": "execute_result"
    }
   ],
   "source": [
    "#ajustamos en el modelo los datos de entrenamiento\n",
    "gs_rf.fit(x_train, y_train)"
   ]
  },
  {
   "cell_type": "code",
   "execution_count": 12,
   "metadata": {},
   "outputs": [
    {
     "data": {
      "text/plain": [
       "RandomForestClassifier(max_depth=6, max_features=3, min_samples_leaf=30,\n",
       "                       min_samples_split=50, random_state=42)"
      ]
     },
     "execution_count": 12,
     "metadata": {},
     "output_type": "execute_result"
    }
   ],
   "source": [
    "#extraemos el mejor modelo:\n",
    "bosque = gs_rf.best_estimator_\n",
    "bosque"
   ]
  },
  {
   "attachments": {},
   "cell_type": "markdown",
   "metadata": {},
   "source": [
    "Vemos que, según el GridSearch, el mejor modelo **es exactamente igual que el mejor modelo del decision tree** tiene las siguientes características:\n",
    "- *max_depth* o profundidad máxima de 2.\n",
    "\n",
    "- *max_features* o raíz cuadrada de 1.\n",
    "\n",
    "- *min_samples_leaf* o número mínimo de observaciones que debe de tener cada uno de los nodos hijos. En nuestro caso, 80.\n",
    "\n",
    "- *min_samples_split* o número mínimo de observaciones que puede tener un nodo para dividirse. En nuestro caso, nuestro modelo necesita 100 observaciones como mínimo para poder dividirse.\n",
    "\n"
   ]
  },
  {
   "cell_type": "code",
   "execution_count": 13,
   "metadata": {},
   "outputs": [],
   "source": [
    "# predecimos el valor de la VR según el mejor modelo:\n",
    "\n",
    "y_best_pred_test = bosque.predict(x_test)\n",
    "y_best_pred_train = bosque.predict(x_train)"
   ]
  },
  {
   "cell_type": "code",
   "execution_count": 14,
   "metadata": {},
   "outputs": [],
   "source": [
    "#invocamos la función para extraer las métricas del test y del train:\n",
    "\n",
    "def metricas(clases_reales_test, clases_predichas_test, clases_reales_train, clases_predichas_train, modelo):\n",
    "    # para el df test\n",
    "    accuracy_test = accuracy_score(clases_reales_test, clases_predichas_test)\n",
    "    precision_test = precision_score(clases_reales_test, clases_predichas_test)\n",
    "    recall_test = recall_score(clases_reales_test, clases_predichas_test)\n",
    "    f1_test = f1_score(clases_reales_test, clases_predichas_test)\n",
    "    kappa_test = cohen_kappa_score(clases_reales_test, clases_predichas_test)\n",
    "    \n",
    "    # para el df train\n",
    "    accuracy_train = accuracy_score(clases_reales_train, clases_predichas_train)\n",
    "    precision_train = precision_score(clases_reales_train, clases_predichas_train)\n",
    "    recall_train = recall_score(clases_reales_train, clases_predichas_train)\n",
    "    f1_train = f1_score(clases_reales_train, clases_predichas_train)\n",
    "    kappa_train = cohen_kappa_score(clases_reales_train, clases_predichas_train)\n",
    "    df = pd.DataFrame({\"accuracy\": [accuracy_test, accuracy_train],\n",
    "                       \"precision\": [precision_test, precision_train],\n",
    "                       \"recall\": [recall_test, recall_train],\n",
    "                       \"f1\": [f1_test, f1_train],\n",
    "                       \"kapppa\": [kappa_test, kappa_train],\n",
    "                       \"set\": [\"test\", \"train\"]})\n",
    "    df[\"modelo\"] = modelo\n",
    "    return df"
   ]
  },
  {
   "cell_type": "code",
   "execution_count": 15,
   "metadata": {},
   "outputs": [
    {
     "data": {
      "text/html": [
       "<div>\n",
       "<style scoped>\n",
       "    .dataframe tbody tr th:only-of-type {\n",
       "        vertical-align: middle;\n",
       "    }\n",
       "\n",
       "    .dataframe tbody tr th {\n",
       "        vertical-align: top;\n",
       "    }\n",
       "\n",
       "    .dataframe thead th {\n",
       "        text-align: right;\n",
       "    }\n",
       "</style>\n",
       "<table border=\"1\" class=\"dataframe\">\n",
       "  <thead>\n",
       "    <tr style=\"text-align: right;\">\n",
       "      <th></th>\n",
       "      <th>accuracy</th>\n",
       "      <th>precision</th>\n",
       "      <th>recall</th>\n",
       "      <th>f1</th>\n",
       "      <th>kapppa</th>\n",
       "      <th>set</th>\n",
       "      <th>modelo</th>\n",
       "    </tr>\n",
       "  </thead>\n",
       "  <tbody>\n",
       "    <tr>\n",
       "      <th>0</th>\n",
       "      <td>0.875000</td>\n",
       "      <td>0.877193</td>\n",
       "      <td>0.793651</td>\n",
       "      <td>0.833333</td>\n",
       "      <td>0.733733</td>\n",
       "      <td>test</td>\n",
       "      <td>Random Forest EST</td>\n",
       "    </tr>\n",
       "    <tr>\n",
       "      <th>1</th>\n",
       "      <td>0.885938</td>\n",
       "      <td>0.847222</td>\n",
       "      <td>0.820628</td>\n",
       "      <td>0.833713</td>\n",
       "      <td>0.746945</td>\n",
       "      <td>train</td>\n",
       "      <td>Random Forest EST</td>\n",
       "    </tr>\n",
       "  </tbody>\n",
       "</table>\n",
       "</div>"
      ],
      "text/plain": [
       "   accuracy  precision    recall        f1    kapppa    set             modelo\n",
       "0  0.875000   0.877193  0.793651  0.833333  0.733733   test  Random Forest EST\n",
       "1  0.885938   0.847222  0.820628  0.833713  0.746945  train  Random Forest EST"
      ]
     },
     "execution_count": 15,
     "metadata": {},
     "output_type": "execute_result"
    }
   ],
   "source": [
    "#aplicamos la función\n",
    "resultados_rf = metricas(y_test, y_best_pred_test, y_train, y_best_pred_train, 'Random Forest EST')\n",
    "resultados_rf"
   ]
  },
  {
   "attachments": {},
   "cell_type": "markdown",
   "metadata": {},
   "source": [
    "- ### Comparad las métricas con los modelos hechos hasta ahora. ¿Cuál es mejor?"
   ]
  },
  {
   "cell_type": "code",
   "execution_count": 16,
   "metadata": {},
   "outputs": [
    {
     "data": {
      "text/html": [
       "<div>\n",
       "<style scoped>\n",
       "    .dataframe tbody tr th:only-of-type {\n",
       "        vertical-align: middle;\n",
       "    }\n",
       "\n",
       "    .dataframe tbody tr th {\n",
       "        vertical-align: top;\n",
       "    }\n",
       "\n",
       "    .dataframe thead th {\n",
       "        text-align: right;\n",
       "    }\n",
       "</style>\n",
       "<table border=\"1\" class=\"dataframe\">\n",
       "  <thead>\n",
       "    <tr style=\"text-align: right;\">\n",
       "      <th></th>\n",
       "      <th>accuracy</th>\n",
       "      <th>precision</th>\n",
       "      <th>recall</th>\n",
       "      <th>f1</th>\n",
       "      <th>kapppa</th>\n",
       "      <th>set</th>\n",
       "      <th>modelo</th>\n",
       "    </tr>\n",
       "  </thead>\n",
       "  <tbody>\n",
       "    <tr>\n",
       "      <th>0</th>\n",
       "      <td>0.600000</td>\n",
       "      <td>0.476190</td>\n",
       "      <td>0.158730</td>\n",
       "      <td>0.238095</td>\n",
       "      <td>0.051325</td>\n",
       "      <td>test</td>\n",
       "      <td>R. log ESTANDARIZADA</td>\n",
       "    </tr>\n",
       "    <tr>\n",
       "      <th>1</th>\n",
       "      <td>0.682813</td>\n",
       "      <td>0.631579</td>\n",
       "      <td>0.215247</td>\n",
       "      <td>0.321070</td>\n",
       "      <td>0.174923</td>\n",
       "      <td>train</td>\n",
       "      <td>R. log ESTANDARIZADA</td>\n",
       "    </tr>\n",
       "    <tr>\n",
       "      <th>0</th>\n",
       "      <td>0.650000</td>\n",
       "      <td>0.000000</td>\n",
       "      <td>0.000000</td>\n",
       "      <td>0.000000</td>\n",
       "      <td>0.000000</td>\n",
       "      <td>test</td>\n",
       "      <td>R. log SIN estandarizar</td>\n",
       "    </tr>\n",
       "    <tr>\n",
       "      <th>1</th>\n",
       "      <td>0.640625</td>\n",
       "      <td>0.000000</td>\n",
       "      <td>0.000000</td>\n",
       "      <td>0.000000</td>\n",
       "      <td>0.000000</td>\n",
       "      <td>train</td>\n",
       "      <td>R. log SIN estandarizar</td>\n",
       "    </tr>\n",
       "    <tr>\n",
       "      <th>0</th>\n",
       "      <td>0.868750</td>\n",
       "      <td>0.875000</td>\n",
       "      <td>0.777778</td>\n",
       "      <td>0.823529</td>\n",
       "      <td>0.719626</td>\n",
       "      <td>test</td>\n",
       "      <td>Decision Tree EST BM</td>\n",
       "    </tr>\n",
       "    <tr>\n",
       "      <th>1</th>\n",
       "      <td>0.885938</td>\n",
       "      <td>0.844037</td>\n",
       "      <td>0.825112</td>\n",
       "      <td>0.834467</td>\n",
       "      <td>0.747476</td>\n",
       "      <td>train</td>\n",
       "      <td>Decision Tree EST BM</td>\n",
       "    </tr>\n",
       "    <tr>\n",
       "      <th>0</th>\n",
       "      <td>0.843750</td>\n",
       "      <td>0.839286</td>\n",
       "      <td>0.746032</td>\n",
       "      <td>0.789916</td>\n",
       "      <td>0.666222</td>\n",
       "      <td>test</td>\n",
       "      <td>Decision Tree RLog EST</td>\n",
       "    </tr>\n",
       "    <tr>\n",
       "      <th>1</th>\n",
       "      <td>0.928125</td>\n",
       "      <td>0.904110</td>\n",
       "      <td>0.887892</td>\n",
       "      <td>0.895928</td>\n",
       "      <td>0.841042</td>\n",
       "      <td>train</td>\n",
       "      <td>Decision Tree RLog EST</td>\n",
       "    </tr>\n",
       "  </tbody>\n",
       "</table>\n",
       "</div>"
      ],
      "text/plain": [
       "   accuracy  precision    recall        f1    kapppa    set  \\\n",
       "0  0.600000   0.476190  0.158730  0.238095  0.051325   test   \n",
       "1  0.682813   0.631579  0.215247  0.321070  0.174923  train   \n",
       "0  0.650000   0.000000  0.000000  0.000000  0.000000   test   \n",
       "1  0.640625   0.000000  0.000000  0.000000  0.000000  train   \n",
       "0  0.868750   0.875000  0.777778  0.823529  0.719626   test   \n",
       "1  0.885938   0.844037  0.825112  0.834467  0.747476  train   \n",
       "0  0.843750   0.839286  0.746032  0.789916  0.666222   test   \n",
       "1  0.928125   0.904110  0.887892  0.895928  0.841042  train   \n",
       "\n",
       "                    modelo  \n",
       "0     R. log ESTANDARIZADA  \n",
       "1     R. log ESTANDARIZADA  \n",
       "0  R. log SIN estandarizar  \n",
       "1  R. log SIN estandarizar  \n",
       "0     Decision Tree EST BM  \n",
       "1     Decision Tree EST BM  \n",
       "0   Decision Tree RLog EST  \n",
       "1   Decision Tree RLog EST  "
      ]
     },
     "execution_count": 16,
     "metadata": {},
     "output_type": "execute_result"
    }
   ],
   "source": [
    "#abrimos un csv con los resultados de las métricas de modelos anteriores de RL:\n",
    "resultados_dt = pd.read_csv('datos/ajustes-modelo-DT.csv', index_col=0)\n",
    "resultados_dt"
   ]
  },
  {
   "cell_type": "code",
   "execution_count": 17,
   "metadata": {},
   "outputs": [
    {
     "data": {
      "text/html": [
       "<div>\n",
       "<style scoped>\n",
       "    .dataframe tbody tr th:only-of-type {\n",
       "        vertical-align: middle;\n",
       "    }\n",
       "\n",
       "    .dataframe tbody tr th {\n",
       "        vertical-align: top;\n",
       "    }\n",
       "\n",
       "    .dataframe thead th {\n",
       "        text-align: right;\n",
       "    }\n",
       "</style>\n",
       "<table border=\"1\" class=\"dataframe\">\n",
       "  <thead>\n",
       "    <tr style=\"text-align: right;\">\n",
       "      <th></th>\n",
       "      <th>accuracy</th>\n",
       "      <th>precision</th>\n",
       "      <th>recall</th>\n",
       "      <th>f1</th>\n",
       "      <th>kapppa</th>\n",
       "      <th>set</th>\n",
       "      <th>modelo</th>\n",
       "    </tr>\n",
       "  </thead>\n",
       "  <tbody>\n",
       "    <tr>\n",
       "      <th>0</th>\n",
       "      <td>0.600000</td>\n",
       "      <td>0.476190</td>\n",
       "      <td>0.158730</td>\n",
       "      <td>0.238095</td>\n",
       "      <td>0.051325</td>\n",
       "      <td>test</td>\n",
       "      <td>R. log ESTANDARIZADA</td>\n",
       "    </tr>\n",
       "    <tr>\n",
       "      <th>1</th>\n",
       "      <td>0.682813</td>\n",
       "      <td>0.631579</td>\n",
       "      <td>0.215247</td>\n",
       "      <td>0.321070</td>\n",
       "      <td>0.174923</td>\n",
       "      <td>train</td>\n",
       "      <td>R. log ESTANDARIZADA</td>\n",
       "    </tr>\n",
       "    <tr>\n",
       "      <th>0</th>\n",
       "      <td>0.650000</td>\n",
       "      <td>0.000000</td>\n",
       "      <td>0.000000</td>\n",
       "      <td>0.000000</td>\n",
       "      <td>0.000000</td>\n",
       "      <td>test</td>\n",
       "      <td>R. log SIN estandarizar</td>\n",
       "    </tr>\n",
       "    <tr>\n",
       "      <th>1</th>\n",
       "      <td>0.640625</td>\n",
       "      <td>0.000000</td>\n",
       "      <td>0.000000</td>\n",
       "      <td>0.000000</td>\n",
       "      <td>0.000000</td>\n",
       "      <td>train</td>\n",
       "      <td>R. log SIN estandarizar</td>\n",
       "    </tr>\n",
       "    <tr>\n",
       "      <th>0</th>\n",
       "      <td>0.868750</td>\n",
       "      <td>0.875000</td>\n",
       "      <td>0.777778</td>\n",
       "      <td>0.823529</td>\n",
       "      <td>0.719626</td>\n",
       "      <td>test</td>\n",
       "      <td>Decision Tree EST BM</td>\n",
       "    </tr>\n",
       "    <tr>\n",
       "      <th>1</th>\n",
       "      <td>0.885938</td>\n",
       "      <td>0.844037</td>\n",
       "      <td>0.825112</td>\n",
       "      <td>0.834467</td>\n",
       "      <td>0.747476</td>\n",
       "      <td>train</td>\n",
       "      <td>Decision Tree EST BM</td>\n",
       "    </tr>\n",
       "    <tr>\n",
       "      <th>0</th>\n",
       "      <td>0.843750</td>\n",
       "      <td>0.839286</td>\n",
       "      <td>0.746032</td>\n",
       "      <td>0.789916</td>\n",
       "      <td>0.666222</td>\n",
       "      <td>test</td>\n",
       "      <td>Decision Tree RLog EST</td>\n",
       "    </tr>\n",
       "    <tr>\n",
       "      <th>1</th>\n",
       "      <td>0.928125</td>\n",
       "      <td>0.904110</td>\n",
       "      <td>0.887892</td>\n",
       "      <td>0.895928</td>\n",
       "      <td>0.841042</td>\n",
       "      <td>train</td>\n",
       "      <td>Decision Tree RLog EST</td>\n",
       "    </tr>\n",
       "    <tr>\n",
       "      <th>0</th>\n",
       "      <td>0.875000</td>\n",
       "      <td>0.877193</td>\n",
       "      <td>0.793651</td>\n",
       "      <td>0.833333</td>\n",
       "      <td>0.733733</td>\n",
       "      <td>test</td>\n",
       "      <td>Random Forest EST</td>\n",
       "    </tr>\n",
       "    <tr>\n",
       "      <th>1</th>\n",
       "      <td>0.885938</td>\n",
       "      <td>0.847222</td>\n",
       "      <td>0.820628</td>\n",
       "      <td>0.833713</td>\n",
       "      <td>0.746945</td>\n",
       "      <td>train</td>\n",
       "      <td>Random Forest EST</td>\n",
       "    </tr>\n",
       "  </tbody>\n",
       "</table>\n",
       "</div>"
      ],
      "text/plain": [
       "   accuracy  precision    recall        f1    kapppa    set  \\\n",
       "0  0.600000   0.476190  0.158730  0.238095  0.051325   test   \n",
       "1  0.682813   0.631579  0.215247  0.321070  0.174923  train   \n",
       "0  0.650000   0.000000  0.000000  0.000000  0.000000   test   \n",
       "1  0.640625   0.000000  0.000000  0.000000  0.000000  train   \n",
       "0  0.868750   0.875000  0.777778  0.823529  0.719626   test   \n",
       "1  0.885938   0.844037  0.825112  0.834467  0.747476  train   \n",
       "0  0.843750   0.839286  0.746032  0.789916  0.666222   test   \n",
       "1  0.928125   0.904110  0.887892  0.895928  0.841042  train   \n",
       "0  0.875000   0.877193  0.793651  0.833333  0.733733   test   \n",
       "1  0.885938   0.847222  0.820628  0.833713  0.746945  train   \n",
       "\n",
       "                    modelo  \n",
       "0     R. log ESTANDARIZADA  \n",
       "1     R. log ESTANDARIZADA  \n",
       "0  R. log SIN estandarizar  \n",
       "1  R. log SIN estandarizar  \n",
       "0     Decision Tree EST BM  \n",
       "1     Decision Tree EST BM  \n",
       "0   Decision Tree RLog EST  \n",
       "1   Decision Tree RLog EST  \n",
       "0        Random Forest EST  \n",
       "1        Random Forest EST  "
      ]
     },
     "execution_count": 17,
     "metadata": {},
     "output_type": "execute_result"
    }
   ],
   "source": [
    "resultados_dt_rf = pd.concat([resultados_dt, resultados_rf], axis=0)\n",
    "resultados_dt_rf"
   ]
  },
  {
   "cell_type": "code",
   "execution_count": 18,
   "metadata": {},
   "outputs": [],
   "source": [
    "resultados_dt_rf.to_csv('datos/met-RLo-def.csv')"
   ]
  },
  {
   "attachments": {},
   "cell_type": "markdown",
   "metadata": {},
   "source": [
    "#### **Interpretación**:\n",
    "\n",
    "\n",
    "Tras comparar las métricas aplicando los modelos, llegamos a las siguientes conclusiones:\n",
    "\n",
    "- Partiendo del valor *kappa* de los distintos modelos, los únicos que tiene un nivel de concordania aceptable (> 0.6) y no sufren un overfitting muy remarcable, los modelos que mas se ajustan a una mejor precidición son: Decision Tree EST BM y Ramdon Forest. \n",
    "\n",
    "- Dado que nos interesa saber qué factores llevan a una persona a pulsar un botón (casos positivos), prestaremos más atención a los parámetros *precision y recall*.\n",
    "\n",
    "- Especialmente, nos interesa el valor del parámetro *precision* dado que queremos saber qué % de casos positivos correctos (Verdaderos Positivos) ha sido capaz de predecir el modelo. \n",
    "\n",
    "**Por lo tanto, optaremos por usar el modelo Random Forest al tener las mejores métricas**"
   ]
  },
  {
   "attachments": {},
   "cell_type": "markdown",
   "metadata": {},
   "source": [
    "#### Para explorar el peso de las variables predictoras o independientes:"
   ]
  },
  {
   "cell_type": "code",
   "execution_count": 19,
   "metadata": {},
   "outputs": [
    {
     "data": {
      "text/html": [
       "<div>\n",
       "<style scoped>\n",
       "    .dataframe tbody tr th:only-of-type {\n",
       "        vertical-align: middle;\n",
       "    }\n",
       "\n",
       "    .dataframe tbody tr th {\n",
       "        vertical-align: top;\n",
       "    }\n",
       "\n",
       "    .dataframe thead th {\n",
       "        text-align: right;\n",
       "    }\n",
       "</style>\n",
       "<table border=\"1\" class=\"dataframe\">\n",
       "  <thead>\n",
       "    <tr style=\"text-align: right;\">\n",
       "      <th></th>\n",
       "      <th>Variables predictoras</th>\n",
       "      <th>importancia</th>\n",
       "    </tr>\n",
       "  </thead>\n",
       "  <tbody>\n",
       "    <tr>\n",
       "      <th>0</th>\n",
       "      <td>age</td>\n",
       "      <td>0.612</td>\n",
       "    </tr>\n",
       "    <tr>\n",
       "      <th>1</th>\n",
       "      <td>estimatedsalary</td>\n",
       "      <td>0.385</td>\n",
       "    </tr>\n",
       "    <tr>\n",
       "      <th>2</th>\n",
       "      <td>gender_Female</td>\n",
       "      <td>0.002</td>\n",
       "    </tr>\n",
       "    <tr>\n",
       "      <th>3</th>\n",
       "      <td>gender_Male</td>\n",
       "      <td>0.002</td>\n",
       "    </tr>\n",
       "  </tbody>\n",
       "</table>\n",
       "</div>"
      ],
      "text/plain": [
       "  Variables predictoras  importancia\n",
       "0                   age        0.612\n",
       "1       estimatedsalary        0.385\n",
       "2         gender_Female        0.002\n",
       "3           gender_Male        0.002"
      ]
     },
     "execution_count": 19,
     "metadata": {},
     "output_type": "execute_result"
    }
   ],
   "source": [
    "# vamos a crearnos un dataframe, igual que hicimos en la clase anterior con la importancia de cada una de las variables incluidas en el modelo\n",
    "importancia_predictores = pd.DataFrame(\n",
    "                            {'Variables predictoras': x_train.columns,\n",
    "                             'importancia': bosque.feature_importances_}\n",
    "                            )\n",
    "\n",
    "# ordenamos de mayor a menor los resultados\n",
    "importancia_predictores.sort_values(by=[\"importancia\"], ascending=False, inplace = True)\n",
    "\n",
    "# printeamos los resultados:\n",
    "\n",
    "round(importancia_predictores, 3)"
   ]
  },
  {
   "attachments": {},
   "cell_type": "markdown",
   "metadata": {},
   "source": [
    "Dado que la variable de género está dividida en dos categorías, vamos a fusionarla en una sola:"
   ]
  },
  {
   "cell_type": "code",
   "execution_count": 20,
   "metadata": {},
   "outputs": [
    {
     "data": {
      "text/html": [
       "<div>\n",
       "<style scoped>\n",
       "    .dataframe tbody tr th:only-of-type {\n",
       "        vertical-align: middle;\n",
       "    }\n",
       "\n",
       "    .dataframe tbody tr th {\n",
       "        vertical-align: top;\n",
       "    }\n",
       "\n",
       "    .dataframe thead th {\n",
       "        text-align: right;\n",
       "    }\n",
       "</style>\n",
       "<table border=\"1\" class=\"dataframe\">\n",
       "  <thead>\n",
       "    <tr style=\"text-align: right;\">\n",
       "      <th></th>\n",
       "      <th>Variables predictoras</th>\n",
       "      <th>importancia</th>\n",
       "    </tr>\n",
       "  </thead>\n",
       "  <tbody>\n",
       "    <tr>\n",
       "      <th>0</th>\n",
       "      <td>age</td>\n",
       "      <td>0.611548</td>\n",
       "    </tr>\n",
       "    <tr>\n",
       "      <th>1</th>\n",
       "      <td>estimatedsalary</td>\n",
       "      <td>0.384990</td>\n",
       "    </tr>\n",
       "    <tr>\n",
       "      <th>2</th>\n",
       "      <td>gender</td>\n",
       "      <td>0.003461</td>\n",
       "    </tr>\n",
       "  </tbody>\n",
       "</table>\n",
       "</div>"
      ],
      "text/plain": [
       "  Variables predictoras  importancia\n",
       "0                   age     0.611548\n",
       "1       estimatedsalary     0.384990\n",
       "2                gender     0.003461"
      ]
     },
     "execution_count": 20,
     "metadata": {},
     "output_type": "execute_result"
    }
   ],
   "source": [
    "#extraemos la relevancia de género, localizándola en el DF:\n",
    "gender_importancia = importancia_predictores.iloc[[-1, -2]]\n",
    "\n",
    "#borramos las columnas de género:\n",
    "importancia_predictores.drop(gender_importancia.index, inplace = True)\n",
    "\n",
    "#fusionamos y colocamos en tercera posición:\n",
    "importancia_predictores.loc[2] =  [\"gender\", gender_importancia[\"importancia\"].sum()\n",
    "#resultado:\n",
    "importancia_predictores\n"
   ]
  }
 ],
 "metadata": {
  "kernelspec": {
   "display_name": "Python 3.9.7 ('base')",
   "language": "python",
   "name": "python3"
  },
  "language_info": {
   "codemirror_mode": {
    "name": "ipython",
    "version": 3
   },
   "file_extension": ".py",
   "mimetype": "text/x-python",
   "name": "python",
   "nbconvert_exporter": "python",
   "pygments_lexer": "ipython3",
   "version": "3.9.7"
  },
  "orig_nbformat": 4,
  "vscode": {
   "interpreter": {
    "hash": "252c28c73334dc448966c55846d6aa799713735e1772b1237f15441ac08135d3"
   }
  }
 },
 "nbformat": 4,
 "nbformat_minor": 2
}
